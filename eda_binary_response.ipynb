{
 "cells": [
  {
   "cell_type": "code",
   "execution_count": null,
   "metadata": {},
   "outputs": [],
   "source": []
  },
  {
   "cell_type": "code",
   "execution_count": null,
   "metadata": {},
   "outputs": [],
   "source": [
    "def categorical_explanitory_binary_response_chart(chart_df, field, target, toggle=False, ):\n",
    "    # the toggle switches which class is the \"baseline\" of the line chart\n",
    "    drop_index = 2\n",
    "    if toggle:\n",
    "        drop_index = 1\n",
    "    \n",
    "    field_count  = chart_df[field].value_counts()\n",
    "    field_count_df = field_count.to_frame()\n",
    "    field_count_df.columns = ['count']\n",
    "    \n",
    "    field_target_pct = pd.crosstab(chart_df[field], chart_df[target], normalize='index') * 100\n",
    "    field_target_pct = field_target_pct.reset_index()\n",
    "    field_target_pct = field_target_pct.drop(field_target_pct.columns[-drop_index],axis=1)\n",
    "    \n",
    "    field_target_data = field_target_pct.merge(field_count_df, right_index=True, left_on=field).sort_values('count', ascending=False).reset_index(drop=True)\n",
    "    \n",
    "    print(field_target_data)\n",
    "    \n",
    "    fig, ax = plt.subplots(figsize=(10, 6))\n",
    "    ax.set_xlabel(field)\n",
    "    ax = sns.barplot(field_target_data[field], field_target_data['count'], alpha=0.8)\n",
    "    ax.set_xticklabels(ax.get_xticklabels(), rotation=45, horizontalalignment='right')\n",
    "    ax.set_ylabel('count (bars)')\n",
    "    ax2 = ax.twinx()\n",
    "    ax2 = sns.pointplot(x=field_target_data[field], y=field_target_data.iloc[:, -2], color='black', legend=False)\n",
    "    ax2.set_ylabel('% {t} (line)'.format(t = target))\n",
    "    plt.show()"
   ]
  },
  {
   "cell_type": "code",
   "execution_count": null,
   "metadata": {},
   "outputs": [],
   "source": [
    "## just plot all the categoricals to explore and do one at a time later\n",
    "feat_count = len(categorical_features)\n",
    "plt.figure(figsize=(10, 6*feat_count))\n",
    "for feat in categorical_features:\n",
    "    categorical_explanitory_binary_response_chart(df, feat, 'income_50k')"
   ]
  },
  {
   "cell_type": "code",
   "execution_count": null,
   "metadata": {},
   "outputs": [],
   "source": [
    "df_cont = df[continuous_features]\n",
    "sns.heatmap(df_cont.corr(), annot = True)"
   ]
  },
  {
   "cell_type": "code",
   "execution_count": null,
   "metadata": {},
   "outputs": [],
   "source": [
    "ax = scatter_matrix(df, figsize = (15,10))"
   ]
  },
  {
   "cell_type": "code",
   "execution_count": null,
   "metadata": {},
   "outputs": [],
   "source": [
    "plt.figure(figsize=(12, 8))\n",
    "sns.scatterplot(data=df, x=\"capital_losses\", y=\"age\", alpha=.6, hue=df['income_50k'].tolist())"
   ]
  },
  {
   "cell_type": "code",
   "execution_count": null,
   "metadata": {},
   "outputs": [],
   "source": [
    "## Overlapping densities\n",
    "plt.figure(figsize=(10, 8))\n",
    "sns.distplot(df.loc[df['income_50k'] == ' - 50000.']['age'])\n",
    "sns.distplot(df.loc[df['income_50k'] != ' - 50000.']['age'])"
   ]
  },
  {
   "cell_type": "code",
   "execution_count": null,
   "metadata": {},
   "outputs": [],
   "source": []
  },
  {
   "cell_type": "code",
   "execution_count": null,
   "metadata": {},
   "outputs": [],
   "source": [
    "#Violin Plots age\n",
    "f, ax = plt.subplots(figsize = (15,8))\n",
    "\n",
    "sns.violinplot(x= 'class_worker', y = 'age', hue = 'income_50k', data = df,\n",
    "               split = True, inner = 'quart')\n",
    "ax.set_xticklabels(ax.get_xticklabels(), rotation=45, horizontalalignment='right')"
   ]
  },
  {
   "cell_type": "code",
   "execution_count": null,
   "metadata": {},
   "outputs": [],
   "source": []
  },
  {
   "cell_type": "code",
   "execution_count": null,
   "metadata": {},
   "outputs": [],
   "source": [
    "from sklearn.decomposition import PCA\n",
    "import matplotlib.pyplot as plt\n",
    "\n",
    "def plot_pca(X, output_components=1):\n",
    "    ## Perform PCA on the data to reduce the number of initial features \n",
    "    ## and to remove correlations that are common between pixel features \n",
    "    pca = PCA(n_components=X.shape[1])\n",
    "    pca.fit(X)\n",
    "\n",
    "    ## Inspect the explained variances to determine how many components to use  \n",
    "    plt.subplots(figsize=(8, 8))\n",
    "    # use n_components series to make x axis start at 1\n",
    "    n_components = pd.Series(range(1,len(np.cumsum(pca.explained_variance_ratio_))+1))\n",
    "    plt.plot(n_components, np.cumsum(pca.explained_variance_ratio_))\n",
    "    plt.xlabel('Number of Components')\n",
    "    plt.ylabel('Cumulative Explained Variance');\n",
    "    \n",
    "    ## Output the explained variances at output_components # of components\n",
    "    output_str = 'Cumulative Explained variance at {n} components:'.format(n=output_components)\n",
    "    print(output_str,sum(pca.explained_variance_ratio_[0:output_components]) )\n",
    "    \n",
    "plot_pca(df[continuous_features], 2)"
   ]
  },
  {
   "cell_type": "code",
   "execution_count": null,
   "metadata": {},
   "outputs": [],
   "source": []
  },
  {
   "cell_type": "code",
   "execution_count": null,
   "metadata": {},
   "outputs": [],
   "source": []
  }
 ],
 "metadata": {
  "kernelspec": {
   "display_name": "Python 3",
   "language": "python",
   "name": "python3"
  },
  "language_info": {
   "codemirror_mode": {
    "name": "ipython",
    "version": 3
   },
   "file_extension": ".py",
   "mimetype": "text/x-python",
   "name": "python",
   "nbconvert_exporter": "python",
   "pygments_lexer": "ipython3",
   "version": "3.7.7"
  }
 },
 "nbformat": 4,
 "nbformat_minor": 4
}
