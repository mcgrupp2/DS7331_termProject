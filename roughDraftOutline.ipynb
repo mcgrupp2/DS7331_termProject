{
 "cells": [
  {
   "cell_type": "markdown",
   "metadata": {},
   "source": [
    "## Business Understanding"
   ]
  },
  {
   "cell_type": "markdown",
   "metadata": {},
   "source": [
    "The dataset selected for this project was collected by the US Census Bureau and the Bureau of Labor Statistics over the course of 1994 and 1995 for the Current Population Survey (CPS). The main purpose of the CPS is to obtain current information on the status of the labor force in the United States. More specifically, this survey is conducted to enumerate the number of jobless and unemployed individuals as well as to get an idea about the social well-being of the citizens.\n",
    "\n",
    "The Current Population Survey was developed in the late 1930s after the Great Depression, as prior there was not an effective technique to classify the labor force. A great need arose for a reliable survey of the population after this period of widespread unemployment. Previously, there were several indirect surveying techniques employed, however there were great discrepancies between these methods. The first surveys began in the 1940s and responsibility for conducting the survey has changed hands in the government, but currently, the survey portion is conducted by the US Census Bureau and the data is analyzed by the Bureau of Labor Statistics. \n",
    "\n",
    "The CPS is conducted monthly and is administered by asking a series of questions pertaining to socioeconomic factors of roughly 60,000 probability sampled households from all 50 states and the District of Columbia. Eligible candidates must be over the age of 15, not in the Armed Forces, or in an institution such as a prison, nursing home or long-term health care facility. Typically, labor force questions are asked pertaining to eligible workers in the household, in addition to supplemental questions asked that are of particular interest to labor force analysts. These subjects range greatly in the both the frequency in which they are asked, as in, annually, biannually, or one-time, as well the topics. Supplemental survey topics which vary monthly and cover questions relating to many differing topics, such as veterans status, child support, displaced workers, fertility, disability, school enrollment, just to name a few.\n",
    "\n",
    "This data was obtained from the University of California Irvine Machine Learning repository, which a citation and a direct link to the dataset can be found [here](https://archive.ics.uci.edu/ml/datasets/Census-Income+%28KDD%29). "
   ]
  },
  {
   "cell_type": "markdown",
   "metadata": {},
   "source": [
    "Due to the wide-ranging nature of this survey, outcomes derived from this data would be highly dependent on the questions at hand. For purposes of this study, the main goals will be classification of two variables. The first variable will be the income as a binomial response, above or below $50,000 annually. The second classification variable will be created from the level of education feature, whether the person is a college graduate or not."
   ]
  },
  {
   "cell_type": "markdown",
   "metadata": {},
   "source": [
    "This data was compiled as it is important for labor force analysts to produce a statistical summary on questions of interest pertaining the United States workforce. The survey is a very useful tool that will provides insight into the social and economic status of the US population. This project will not be necessarily using this data set for what it was initially intended for but rather produce two unique classification problems. If useful knowledge has been mined from this data, an accurate classification algorithm will be produced for the desired variables selected. Ten-fold cross validation will be used to assess if useful knowledge has been mined."
   ]
  },
  {
   "cell_type": "markdown",
   "metadata": {},
   "source": [
    "For these studies, classification models will be built. The effectiveness of a good prediction algorithm will be assessed by accuracy of the predictions made."
   ]
  },
  {
   "attachments": {},
   "cell_type": "markdown",
   "metadata": {},
   "source": [
    "## Data Meaning Type"
   ]
  },
  {
   "attachments": {},
   "cell_type": "markdown",
   "metadata": {},
   "source": [
    "The census dataset was grabbed from the UCI Machine Learning repository. To learn more about this dataset please visit the hyperlink that is attached in the above segments. \n",
    "\n",
    "Overall this dataset includes about 40 attributes and all varying around census information around the year 1994 and 1995. We decided to include almost all attributes to help us with our classification models in subsequent labs. Below is the high level breakdown of each attribute:\n",
    "\n",
    "|Attribute\t       | Type of Data\t |     Description    |\n",
    "|:-----------------|:---------------:|:-------------------|\n",
    "|Age\t           | Nominal\t     | -Age of each individual|\n",
    "|Class of Worker   | Nominal\t     | -This is the information of what industry the person works in |\n",
    "|Industry Code\t   | Integer         | -The code of the industry they work in, if applicable|\n",
    "|Occupation Code   | Integer\t     | -The code associated with their occupation|\n",
    "|Education\t       | Nominal\t     | -The level of education the person received |\n",
    "|Wage per hour\t   | Integer         | -How much the person makes per hour |\n",
    "|Marital status\t   | Nominal         | -This is whether the person is married, single, or  divorced |\n",
    "|Major Industry code| Nominal        | -The actual description of the industry, e.g. Construction, Finance, etc… |\n",
    "|Major occupation code| Nominal\t     | -Description of the role of the individual |\n",
    "|Race \t              | Nominal\t     | -Race of the individual e.g. Caucasian, Asian, Hispanic, etc… |\n",
    "|Hispanic Origin\t  | Nominal\t     | -Whether the individual has a hispanic origin |\n",
    "|Sex\t              | Binary\t     | -The gender of the individual, Male or Female |\n",
    "|Member_of_labor union| Nominal\t     | -This tells us if they are a member of a labor union|\n",
    "|Reason for unemployment| Nominal\t | -The reason for unemployment if not employed |\n",
    "|Full or part time employment stat|\t Nominal | -The working status of the individual |\n",
    "|Capital gains\t| Integer\t         | -Their overall capital gains this year |\n",
    "|Capital losses | Integer            | -The overall loss to the capital gains |\n",
    "|Dividends from stocks|\tInteger\t     | -The return that was gained if the individual owns any stocks |\n",
    "|Tax filer status |\tBinary\t         | -This is the current status for their tax filing |\n",
    "|Region of previous residence | Nominal\t| -The region the individual lived in before |\n",
    "|State of previous residence  | Nominal\t|     -The state the individual lived previously, if applicable |\n",
    "|Detailed household and family stat | Nominal |    -Statistic of the individual in a household and the family as a whole|\n",
    "|Detailed household summary in household |\tNominal\t| -Overall summary that closely depicts the members of the household|\n",
    "|Instance weight | Double\t|   -Number of people in the population that each record represents duel to stratified sampling|\n",
    "|Migration code-change in msa | Nominal\t| -Information regarding whether the person moved to the state|\n",
    "|Migration code-change in reg |  Nominal |\t     -Originated from the region and whether they moved to the region or away |\n",
    "|Migration code-move within reg | Nominal\t|   -Same as above |\n",
    "|Migration prev res in sunbelt |\tNominal\t|  -Previously lived in the sunbelt  |\n",
    "|Num persons worked for employer | Nominal\t| -The number of previous employers the individual worked for |\n",
    "|Family members under 18 | Nominal | -Family members under the age of 18 |\n",
    "|Country of birth father | Nominal\t| -The country of birth for the father of the individual |\n",
    "|Country of birth mother | Nominal\t| -The country of birth for the mother of the individual |\n",
    "|Country of birth self \t | Nominal\t| -The country of birth for the individual |\n",
    "|Citizenship \t         | Binary\t| -Whether they are a citizen of the country or not |\n",
    "|Total person income\t | Binary\t| -Income of the peson for the year, above 50k or below 50k |\n",
    "|Own business or self employed | \tNominal |\t -If they own a business or are self-employed |\n",
    "|Veterans benefits\t| Ordinal  |  -The benefit tier for a veteran |\n",
    "|Weeks worked in year |\tInteger | -Number of weeks worked that given year for the person |\n"
   ]
  },
  {
   "cell_type": "code",
   "execution_count": 6,
   "metadata": {},
   "outputs": [],
   "source": [
    "#Importing the libraries we need for this analysis\n",
    "\n",
    "import numpy as np\n",
    "import pandas as pd \n",
    "\n",
    "import matplotlib.pyplot as plt\n",
    "import matplotlib.style as style\n",
    "import scipy.stats as stats\n",
    "import seaborn as sns\n",
    "%matplotlib inline\n",
    "style.use('bmh') ## style for charts"
   ]
  },
  {
   "cell_type": "code",
   "execution_count": 8,
   "metadata": {},
   "outputs": [],
   "source": [
    "## Create a new variable for classification based of if the person recieved a \n",
    "## degree beyond high school\n",
    "higer_degrees = [\n",
    "    ' Bachelors degree(BA AB BS)', \n",
    "    ' Masters degree(MA MS MEng MEd MSW MBA)', \n",
    "    ' Prof school degree (MD DDS DVM LLB JD)',\n",
    "    ' Doctorate degree(PhD EdD)',\n",
    "    ' Associates degree-academic program',\n",
    "    ' Associates degree-occup /vocational',\n",
    "]\n",
    "\n",
    "df['graduated'] = 'no'\n",
    "df.loc[df['education'].isin(higer_degrees), 'graduated'] = 'yes'"
   ]
  },
  {
   "attachments": {},
   "cell_type": "markdown",
   "metadata": {},
   "source": [
    "## Data Quality"
   ]
  },
  {
   "cell_type": "markdown",
   "metadata": {},
   "source": [
    "#### [15 points] Verify data quality: *Explain any missing values, duplicate data, and outliers. Are those mistakes? How do you deal with these problems? Be specific.*"
   ]
  },
  {
   "cell_type": "code",
   "execution_count": 10,
   "metadata": {},
   "outputs": [],
   "source": [
    "## from: https://www2.1010data.com/documentationcenter/prod/Tutorials/MachineLearningExamples/CensusIncomeDataSet.html\n",
    "header_names = [\n",
    "    'age',\n",
    "    'class_worker',\n",
    "    'det_ind_code',\n",
    "    'det_occ_code',\n",
    "    'education',\n",
    "    'wage_per_hour',\n",
    "    'hs_college',\n",
    "    'marital_stat',\n",
    "    'major_ind_code',\n",
    "    'major_occ_code',\n",
    "    'race',\n",
    "    'hisp_origin',\n",
    "    'sex',\n",
    "    'union_member',\n",
    "    'unemp_reason',\n",
    "    'full_or_part_emp',\n",
    "    'capital_gains',\n",
    "    'capital_losses',\n",
    "    'stock_dividends',\n",
    "    'tax_filer_stat',\n",
    "    'region_prev_res',\n",
    "    'state_prev_res',\n",
    "    'det_hh_fam_stat',\n",
    "    'det_hh_summ',\n",
    "    'instance_weight', ## this field is not used as a feature\n",
    "    'mig_chg_msa',\n",
    "    'mig_chg_reg',\n",
    "    'mig_move_reg',\n",
    "    'mig_same',\n",
    "    'mig_prev_sunbelt',\n",
    "    'num_emp',\n",
    "    'fam_under_18',\n",
    "    'country_father',\n",
    "    'country_mother',\n",
    "    'country_self',\n",
    "    'citizenship',\n",
    "    'own_or_self',\n",
    "    'vet_question',\n",
    "    'vet_benefits',\n",
    "    'weeks_worked',\n",
    "    'year',\n",
    "    'income_50k',\n",
    "]"
   ]
  },
  {
   "cell_type": "code",
   "execution_count": 7,
   "metadata": {},
   "outputs": [
    {
     "data": {
      "text/plain": [
       "(299285, 42)"
      ]
     },
     "execution_count": 7,
     "metadata": {},
     "output_type": "execute_result"
    }
   ],
   "source": [
    "df = pd.read_csv('data/census-income.data.csv', header=None, names=header_names)\n",
    "df_test = pd.read_csv('data/census-income.test.csv', header=None, names=header_names)\n",
    "df = pd.concat([df,df_test]) ## the test file is also labelled so they can be merged\n",
    "df.drop(columns=['instance_weight']) ## not used for our analysis\n",
    "df.shape"
   ]
  },
  {
   "cell_type": "markdown",
   "metadata": {},
   "source": [
    "As seen above, we have a total of 299285 observations for our dataset. This is the combination between both the test and train dataset."
   ]
  },
  {
   "cell_type": "code",
   "execution_count": 5,
   "metadata": {},
   "outputs": [
    {
     "name": "stdout",
     "output_type": "stream",
     "text": [
      "<class 'pandas.core.frame.DataFrame'>\n",
      "Int64Index: 299285 entries, 0 to 99761\n",
      "Data columns (total 42 columns):\n",
      "age                 299285 non-null int64\n",
      "class_worker        299285 non-null category\n",
      "det_ind_code        299285 non-null category\n",
      "det_occ_code        299285 non-null category\n",
      "education           299285 non-null category\n",
      "wage_per_hour       299285 non-null int64\n",
      "hs_college          299285 non-null category\n",
      "marital_stat        299285 non-null category\n",
      "major_ind_code      299285 non-null category\n",
      "major_occ_code      299285 non-null category\n",
      "race                299285 non-null category\n",
      "hisp_origin         299285 non-null category\n",
      "sex                 299285 non-null category\n",
      "union_member        299285 non-null category\n",
      "unemp_reason        299285 non-null category\n",
      "full_or_part_emp    299285 non-null category\n",
      "capital_gains       299285 non-null int64\n",
      "capital_losses      299285 non-null int64\n",
      "stock_dividends     299285 non-null int64\n",
      "tax_filer_stat      299285 non-null category\n",
      "region_prev_res     299285 non-null category\n",
      "state_prev_res      299285 non-null category\n",
      "det_hh_fam_stat     299285 non-null category\n",
      "det_hh_summ         299285 non-null category\n",
      "instance_weight     299285 non-null float64\n",
      "mig_chg_msa         299285 non-null category\n",
      "mig_chg_reg         299285 non-null category\n",
      "mig_move_reg        299285 non-null category\n",
      "mig_same            299285 non-null category\n",
      "mig_prev_sunbelt    299285 non-null category\n",
      "num_emp             299285 non-null int64\n",
      "fam_under_18        299285 non-null category\n",
      "country_father      299285 non-null category\n",
      "country_mother      299285 non-null category\n",
      "country_self        299285 non-null category\n",
      "citizenship         299285 non-null category\n",
      "own_or_self         299285 non-null category\n",
      "vet_question        299285 non-null category\n",
      "vet_benefits        299285 non-null category\n",
      "weeks_worked        299285 non-null int64\n",
      "year                299285 non-null category\n",
      "income_50k          299285 non-null object\n",
      "dtypes: category(33), float64(1), int64(7), object(1)\n",
      "memory usage: 32.3+ MB\n"
     ]
    }
   ],
   "source": [
    "categorical_features = [\n",
    "    'class_worker',\n",
    "    'det_ind_code',\n",
    "    'det_occ_code',\n",
    "    'education',\n",
    "    'hs_college',\n",
    "    'marital_stat',\n",
    "    'major_ind_code',\n",
    "    'major_occ_code',\n",
    "    'race',\n",
    "    'hisp_origin',\n",
    "    'sex',\n",
    "    'union_member',\n",
    "    'unemp_reason',\n",
    "    'full_or_part_emp',\n",
    "    'tax_filer_stat',\n",
    "    'region_prev_res',\n",
    "    'state_prev_res',\n",
    "    'det_hh_fam_stat',\n",
    "    'det_hh_summ',\n",
    "    'mig_chg_msa',\n",
    "    'mig_chg_reg',\n",
    "    'mig_move_reg',\n",
    "    'mig_same',\n",
    "    'mig_prev_sunbelt',\n",
    "    'fam_under_18',\n",
    "    'country_father',\n",
    "    'country_mother',\n",
    "    'country_self',\n",
    "    'citizenship',\n",
    "    'own_or_self',\n",
    "    'vet_question',\n",
    "    'vet_benefits',\n",
    "    'year',\n",
    "]\n",
    "continuous_features = [\n",
    "    'age', \n",
    "    'wage_per_hour',\n",
    "    'capital_gains',\n",
    "    'capital_losses',\n",
    "    'stock_dividends',\n",
    "    'num_emp',\n",
    "    'weeks_worked',\n",
    "  ]\n",
    "df[categorical_features] = df[categorical_features].astype('category')\n",
    "\n",
    "df.info()"
   ]
  },
  {
   "cell_type": "markdown",
   "metadata": {},
   "source": [
    "## *Simple Statistics*"
   ]
  },
  {
   "cell_type": "markdown",
   "metadata": {},
   "source": [
    "#### [10 points] Give simple, appropriate statistics (range, mode, mean, median, variance, counts, etc.) for the most important attributes and describe what they mean or if you found *something interesting.* Note: You can also use data from other sources for comparison. Explain the significance of the statistics run and why they are meaningful."
   ]
  },
  {
   "cell_type": "code",
   "execution_count": 7,
   "metadata": {},
   "outputs": [
    {
     "data": {
      "text/html": [
       "<div>\n",
       "<style scoped>\n",
       "    .dataframe tbody tr th:only-of-type {\n",
       "        vertical-align: middle;\n",
       "    }\n",
       "\n",
       "    .dataframe tbody tr th {\n",
       "        vertical-align: top;\n",
       "    }\n",
       "\n",
       "    .dataframe thead th {\n",
       "        text-align: right;\n",
       "    }\n",
       "</style>\n",
       "<table border=\"1\" class=\"dataframe\">\n",
       "  <thead>\n",
       "    <tr style=\"text-align: right;\">\n",
       "      <th></th>\n",
       "      <th>age</th>\n",
       "      <th>wage_per_hour</th>\n",
       "      <th>capital_gains</th>\n",
       "      <th>capital_losses</th>\n",
       "      <th>stock_dividends</th>\n",
       "      <th>instance_weight</th>\n",
       "      <th>num_emp</th>\n",
       "      <th>weeks_worked</th>\n",
       "    </tr>\n",
       "  </thead>\n",
       "  <tbody>\n",
       "    <tr>\n",
       "      <td>count</td>\n",
       "      <td>299285.000000</td>\n",
       "      <td>299285.000000</td>\n",
       "      <td>299285.000000</td>\n",
       "      <td>299285.000000</td>\n",
       "      <td>299285.000000</td>\n",
       "      <td>299285.000000</td>\n",
       "      <td>299285.000000</td>\n",
       "      <td>299285.000000</td>\n",
       "    </tr>\n",
       "    <tr>\n",
       "      <td>mean</td>\n",
       "      <td>34.538998</td>\n",
       "      <td>55.105027</td>\n",
       "      <td>431.742176</td>\n",
       "      <td>36.849010</td>\n",
       "      <td>195.851259</td>\n",
       "      <td>1740.101125</td>\n",
       "      <td>1.956172</td>\n",
       "      <td>23.178375</td>\n",
       "    </tr>\n",
       "    <tr>\n",
       "      <td>std</td>\n",
       "      <td>22.318468</td>\n",
       "      <td>273.340729</td>\n",
       "      <td>4670.768536</td>\n",
       "      <td>269.789771</td>\n",
       "      <td>1937.847082</td>\n",
       "      <td>994.144299</td>\n",
       "      <td>2.364857</td>\n",
       "      <td>24.404016</td>\n",
       "    </tr>\n",
       "    <tr>\n",
       "      <td>min</td>\n",
       "      <td>0.000000</td>\n",
       "      <td>0.000000</td>\n",
       "      <td>0.000000</td>\n",
       "      <td>0.000000</td>\n",
       "      <td>0.000000</td>\n",
       "      <td>37.870000</td>\n",
       "      <td>0.000000</td>\n",
       "      <td>0.000000</td>\n",
       "    </tr>\n",
       "    <tr>\n",
       "      <td>25%</td>\n",
       "      <td>15.000000</td>\n",
       "      <td>0.000000</td>\n",
       "      <td>0.000000</td>\n",
       "      <td>0.000000</td>\n",
       "      <td>0.000000</td>\n",
       "      <td>1060.490000</td>\n",
       "      <td>0.000000</td>\n",
       "      <td>0.000000</td>\n",
       "    </tr>\n",
       "    <tr>\n",
       "      <td>50%</td>\n",
       "      <td>33.000000</td>\n",
       "      <td>0.000000</td>\n",
       "      <td>0.000000</td>\n",
       "      <td>0.000000</td>\n",
       "      <td>0.000000</td>\n",
       "      <td>1617.110000</td>\n",
       "      <td>1.000000</td>\n",
       "      <td>8.000000</td>\n",
       "    </tr>\n",
       "    <tr>\n",
       "      <td>75%</td>\n",
       "      <td>50.000000</td>\n",
       "      <td>0.000000</td>\n",
       "      <td>0.000000</td>\n",
       "      <td>0.000000</td>\n",
       "      <td>0.000000</td>\n",
       "      <td>2188.110000</td>\n",
       "      <td>4.000000</td>\n",
       "      <td>52.000000</td>\n",
       "    </tr>\n",
       "    <tr>\n",
       "      <td>max</td>\n",
       "      <td>90.000000</td>\n",
       "      <td>9999.000000</td>\n",
       "      <td>99999.000000</td>\n",
       "      <td>4608.000000</td>\n",
       "      <td>99999.000000</td>\n",
       "      <td>18656.300000</td>\n",
       "      <td>6.000000</td>\n",
       "      <td>52.000000</td>\n",
       "    </tr>\n",
       "  </tbody>\n",
       "</table>\n",
       "</div>"
      ],
      "text/plain": [
       "                 age  wage_per_hour  capital_gains  capital_losses  \\\n",
       "count  299285.000000  299285.000000  299285.000000   299285.000000   \n",
       "mean       34.538998      55.105027     431.742176       36.849010   \n",
       "std        22.318468     273.340729    4670.768536      269.789771   \n",
       "min         0.000000       0.000000       0.000000        0.000000   \n",
       "25%        15.000000       0.000000       0.000000        0.000000   \n",
       "50%        33.000000       0.000000       0.000000        0.000000   \n",
       "75%        50.000000       0.000000       0.000000        0.000000   \n",
       "max        90.000000    9999.000000   99999.000000     4608.000000   \n",
       "\n",
       "       stock_dividends  instance_weight        num_emp   weeks_worked  \n",
       "count    299285.000000    299285.000000  299285.000000  299285.000000  \n",
       "mean        195.851259      1740.101125       1.956172      23.178375  \n",
       "std        1937.847082       994.144299       2.364857      24.404016  \n",
       "min           0.000000        37.870000       0.000000       0.000000  \n",
       "25%           0.000000      1060.490000       0.000000       0.000000  \n",
       "50%           0.000000      1617.110000       1.000000       8.000000  \n",
       "75%           0.000000      2188.110000       4.000000      52.000000  \n",
       "max       99999.000000     18656.300000       6.000000      52.000000  "
      ]
     },
     "execution_count": 7,
     "metadata": {},
     "output_type": "execute_result"
    }
   ],
   "source": [
    "#The below code is to get some simple statistics for all of the continuous variables\n",
    "df.describe()"
   ]
  },
  {
   "cell_type": "markdown",
   "metadata": {},
   "source": [
    "The above tables shows the simple statistics for each of the continuous numeric variables. This is a dataset that has only a finite amount of numeric variables, which  adds a little bit of more weight to the overall analysis. \n",
    "\n",
    "As per the above results, we can see that the average age is 34.5 and with an average wage of $55. Some other notable data that we would like to point out is the number of employers an individual had in the year (2000). The average is about two employers within the span of a year, which is fairly common. "
   ]
  },
  {
   "cell_type": "code",
   "execution_count": 8,
   "metadata": {},
   "outputs": [
    {
     "data": {
      "text/html": [
       "<div>\n",
       "<style scoped>\n",
       "    .dataframe tbody tr th:only-of-type {\n",
       "        vertical-align: middle;\n",
       "    }\n",
       "\n",
       "    .dataframe tbody tr th {\n",
       "        vertical-align: top;\n",
       "    }\n",
       "\n",
       "    .dataframe thead th {\n",
       "        text-align: right;\n",
       "    }\n",
       "</style>\n",
       "<table border=\"1\" class=\"dataframe\">\n",
       "  <thead>\n",
       "    <tr style=\"text-align: right;\">\n",
       "      <th></th>\n",
       "      <th>class_worker</th>\n",
       "      <th>det_ind_code</th>\n",
       "      <th>det_occ_code</th>\n",
       "      <th>education</th>\n",
       "      <th>hs_college</th>\n",
       "      <th>marital_stat</th>\n",
       "      <th>major_ind_code</th>\n",
       "      <th>major_occ_code</th>\n",
       "      <th>race</th>\n",
       "      <th>hisp_origin</th>\n",
       "      <th>...</th>\n",
       "      <th>mig_prev_sunbelt</th>\n",
       "      <th>fam_under_18</th>\n",
       "      <th>country_father</th>\n",
       "      <th>country_mother</th>\n",
       "      <th>country_self</th>\n",
       "      <th>citizenship</th>\n",
       "      <th>own_or_self</th>\n",
       "      <th>vet_question</th>\n",
       "      <th>vet_benefits</th>\n",
       "      <th>year</th>\n",
       "    </tr>\n",
       "  </thead>\n",
       "  <tbody>\n",
       "    <tr>\n",
       "      <td>count</td>\n",
       "      <td>299285</td>\n",
       "      <td>299285</td>\n",
       "      <td>299285</td>\n",
       "      <td>299285</td>\n",
       "      <td>299285</td>\n",
       "      <td>299285</td>\n",
       "      <td>299285</td>\n",
       "      <td>299285</td>\n",
       "      <td>299285</td>\n",
       "      <td>299285</td>\n",
       "      <td>...</td>\n",
       "      <td>299285</td>\n",
       "      <td>299285</td>\n",
       "      <td>299285</td>\n",
       "      <td>299285</td>\n",
       "      <td>299285</td>\n",
       "      <td>299285</td>\n",
       "      <td>299285</td>\n",
       "      <td>299285</td>\n",
       "      <td>299285</td>\n",
       "      <td>299285</td>\n",
       "    </tr>\n",
       "    <tr>\n",
       "      <td>unique</td>\n",
       "      <td>9</td>\n",
       "      <td>52</td>\n",
       "      <td>47</td>\n",
       "      <td>17</td>\n",
       "      <td>3</td>\n",
       "      <td>7</td>\n",
       "      <td>24</td>\n",
       "      <td>15</td>\n",
       "      <td>5</td>\n",
       "      <td>10</td>\n",
       "      <td>...</td>\n",
       "      <td>4</td>\n",
       "      <td>5</td>\n",
       "      <td>43</td>\n",
       "      <td>43</td>\n",
       "      <td>43</td>\n",
       "      <td>5</td>\n",
       "      <td>3</td>\n",
       "      <td>3</td>\n",
       "      <td>3</td>\n",
       "      <td>2</td>\n",
       "    </tr>\n",
       "    <tr>\n",
       "      <td>top</td>\n",
       "      <td>Not in universe</td>\n",
       "      <td>0</td>\n",
       "      <td>0</td>\n",
       "      <td>High school graduate</td>\n",
       "      <td>Not in universe</td>\n",
       "      <td>Never married</td>\n",
       "      <td>Not in universe or children</td>\n",
       "      <td>Not in universe</td>\n",
       "      <td>White</td>\n",
       "      <td>All other</td>\n",
       "      <td>...</td>\n",
       "      <td>?</td>\n",
       "      <td>Not in universe</td>\n",
       "      <td>United-States</td>\n",
       "      <td>United-States</td>\n",
       "      <td>United-States</td>\n",
       "      <td>Native- Born in the United States</td>\n",
       "      <td>0</td>\n",
       "      <td>Not in universe</td>\n",
       "      <td>2</td>\n",
       "      <td>94</td>\n",
       "    </tr>\n",
       "    <tr>\n",
       "      <td>freq</td>\n",
       "      <td>150324</td>\n",
       "      <td>150967</td>\n",
       "      <td>150967</td>\n",
       "      <td>72554</td>\n",
       "      <td>280367</td>\n",
       "      <td>129628</td>\n",
       "      <td>150967</td>\n",
       "      <td>150967</td>\n",
       "      <td>250978</td>\n",
       "      <td>257830</td>\n",
       "      <td>...</td>\n",
       "      <td>149642</td>\n",
       "      <td>216626</td>\n",
       "      <td>238531</td>\n",
       "      <td>240492</td>\n",
       "      <td>265342</td>\n",
       "      <td>265347</td>\n",
       "      <td>270860</td>\n",
       "      <td>296274</td>\n",
       "      <td>225427</td>\n",
       "      <td>149643</td>\n",
       "    </tr>\n",
       "  </tbody>\n",
       "</table>\n",
       "<p>4 rows × 33 columns</p>\n",
       "</div>"
      ],
      "text/plain": [
       "            class_worker  det_ind_code  det_occ_code              education  \\\n",
       "count             299285        299285        299285                 299285   \n",
       "unique                 9            52            47                     17   \n",
       "top      Not in universe             0             0   High school graduate   \n",
       "freq              150324        150967        150967                  72554   \n",
       "\n",
       "              hs_college    marital_stat                major_ind_code  \\\n",
       "count             299285          299285                        299285   \n",
       "unique                 3               7                            24   \n",
       "top      Not in universe   Never married   Not in universe or children   \n",
       "freq              280367          129628                        150967   \n",
       "\n",
       "          major_occ_code    race hisp_origin  ... mig_prev_sunbelt  \\\n",
       "count             299285  299285      299285  ...           299285   \n",
       "unique                15       5          10  ...                4   \n",
       "top      Not in universe   White   All other  ...                ?   \n",
       "freq              150967  250978      257830  ...           149642   \n",
       "\n",
       "            fam_under_18  country_father  country_mother    country_self  \\\n",
       "count             299285          299285          299285          299285   \n",
       "unique                 5              43              43              43   \n",
       "top      Not in universe   United-States   United-States   United-States   \n",
       "freq              216626          238531          240492          265342   \n",
       "\n",
       "                               citizenship own_or_self      vet_question  \\\n",
       "count                               299285      299285            299285   \n",
       "unique                                   5           3                 3   \n",
       "top      Native- Born in the United States           0   Not in universe   \n",
       "freq                                265347      270860            296274   \n",
       "\n",
       "       vet_benefits    year  \n",
       "count        299285  299285  \n",
       "unique            3       2  \n",
       "top               2      94  \n",
       "freq         225427  149643  \n",
       "\n",
       "[4 rows x 33 columns]"
      ]
     },
     "execution_count": 8,
     "metadata": {},
     "output_type": "execute_result"
    }
   ],
   "source": [
    "#We also want to get some simple stats for all the categorical variables\n",
    "df.describe(include = 'category')"
   ]
  },
  {
   "cell_type": "markdown",
   "metadata": {},
   "source": [
    "The above table provides information about the categorical variables in this dataset. As seen, there is quite a bit of variables. This makes sense because this is a census data so there will be information regarding the general information of an individual which is nominal. \n",
    "\n",
    "Some initial things that stand out per the categorical variables is that there is alot unique values for country of the father, mother, and individual. There is also a high influx of high school graduates as its one of the top observations for the education category. "
   ]
  },
  {
   "attachments": {},
   "cell_type": "markdown",
   "metadata": {},
   "source": [
    "## Visualize Attributes"
   ]
  },
  {
   "cell_type": "markdown",
   "metadata": {},
   "source": [
    "#### [15 points] Visualize the most important attributes appropriately (at least 5 attributes). Important: Provide an interpretation for each chart. Explain for each attribute why the chosen visualization is appropriate."
   ]
  },
  {
   "attachments": {},
   "cell_type": "markdown",
   "metadata": {},
   "source": [
    "## Explore Joint Attributes"
   ]
  },
  {
   "attachments": {},
   "cell_type": "markdown",
   "metadata": {},
   "source": [
    "## Explore Attributes and Class"
   ]
  },
  {
   "cell_type": "markdown",
   "metadata": {},
   "source": [
    "#### [10 points] Identify and explain interesting relationships between features and the class you are trying to predict (i.e., relationships with variables and the target classification)."
   ]
  },
  {
   "cell_type": "markdown",
   "metadata": {},
   "source": []
  },
  {
   "attachments": {},
   "cell_type": "markdown",
   "metadata": {},
   "source": [
    "## New Features"
   ]
  },
  {
   "cell_type": "markdown",
   "metadata": {},
   "source": [
    "#### [5 points] Are there other features that could be added to the data or created from existing features? Which ones?"
   ]
  },
  {
   "cell_type": "markdown",
   "metadata": {},
   "source": []
  },
  {
   "cell_type": "markdown",
   "metadata": {},
   "source": [
    "## Exceptional Work"
   ]
  },
  {
   "cell_type": "markdown",
   "metadata": {},
   "source": []
  },
  {
   "cell_type": "markdown",
   "metadata": {},
   "source": [
    "### Sources"
   ]
  },
  {
   "cell_type": "markdown",
   "metadata": {},
   "source": [
    "UCI Citation for dataset:\n",
    "Dua, D. and Graff, C. (2019). UCI Machine Learning Repository [http://archive.ics.uci.edu/ml]. Irvine, CA: University of California, School of Information and Computer Science.\n",
    "\n",
    "[Direct Link to Census-Income Dataset](https://archive.ics.uci.edu/ml/datasets/Census-Income+%28KDD%29).\n",
    "\n",
    "[History of the Current Population Survey](https://www.census.gov/programs-surveys/cps/about/history-of-the-cps.html).\n",
    "\n",
    "[Methodology of the Current Population Survey](https://www.census.gov/programs-surveys/cps/technical-documentation/methodology.html)\n",
    "\n",
    "[Current Population Survey: Supplemental Survey Topics](https://www.census.gov/programs-surveys/cps/about/supplemental-surveys.html)"
   ]
  }
 ],
 "metadata": {
  "kernelspec": {
   "display_name": "Python 3",
   "language": "python",
   "name": "python3"
  },
  "language_info": {
   "codemirror_mode": {
    "name": "ipython",
    "version": 3
   },
   "file_extension": ".py",
   "mimetype": "text/x-python",
   "name": "python",
   "nbconvert_exporter": "python",
   "pygments_lexer": "ipython3",
   "version": "3.8.5"
  }
 },
 "nbformat": 4,
 "nbformat_minor": 4
}
