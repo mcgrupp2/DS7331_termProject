{
 "cells": [
  {
   "cell_type": "markdown",
   "metadata": {},
   "source": [
    "## Business Understanding 1"
   ]
  },
  {
   "cell_type": "markdown",
   "metadata": {},
   "source": [
    "The dataset selected for this project was collected by the US Census Bureau and the Bureau of Labor Statistics over the course of 1994 and 1995 for the Current Population Survey (CPS). The main purpose of the CPS is to obtain current information on the status of the labor force in the United States. More specifically, this survey is conducted to enumerate the number of jobless and unemployed individuals as well as to get an idea about the social well-being of the citizens.\n",
    "\n",
    "The Current Population Survey was developed in the late 1930s after the Great Depression, as prior there was not an effective technique to classify the labor force. A great need arose for a reliable survey of the population after this period of widespread unemployment. Previously, there were several indirect surveying techniques employed, however there were great discrepancies between these methods. The first surveys began in the 1940s and responsibility for conducting the survey has changed hands in the government, but currently, the survey portion is conducted by the US Census Bureau and the data is analyzed by the Bureau of Labor Statistics. \n",
    "\n",
    "The CPS is conducted monthly and is administered by asking a series of questions pertaining to socioeconomic factors of roughly 60,000 probability sampled households from all 50 states and the District of Columbia. Eligible candidates must be over the age of 15, not in the Armed Forces, or in an institution such as a prison, nursing home or long-term health care facility. Typically, labor force questions are asked pertaining to eligible workers in the household, in addition to supplemental questions asked that are of particular interest to labor force analysts. These subjects range greatly in the both the frequency in which they are asked, as in, annually, biannually, or one-time, as well the topics. Supplemental survey topics which vary monthly and cover questions relating to many differing topics, such as veterans status, child support, displaced workers, fertility, disability, school enrollment, just to name a few.\n",
    "\n",
    "This data was obtained from the University of California Irvine Machine Learning repository, which a citation and a direct link to the dataset can be found [here](https://www2.1010data.com/documentationcenter/prod/Tutorials/MachineLearningExamples/CensusIncomeDataSet.html). "
   ]
  },
  {
   "cell_type": "markdown",
   "metadata": {},
   "source": [
    "Due to the wide-ranging nature of this survey, outcomes derived from this data would be highly dependent on the questions at hand. For purposes of this study, the main goals will be classification of two variables. The first variable will be the income as a binomial response, above or below $50,000 annually. The second classification variable will be created from the level of education feature, whether the person is a college graduate or not."
   ]
  },
  {
   "cell_type": "markdown",
   "metadata": {},
   "source": [
    "This data was compiled as it is important for labor force analysts to produce a statistical summary on questions of interest pertaining the United States workforce. The survey is a very useful tool that will provides insight into the social and economic status of the US population. This project will not be necessarily using this data set for what it was initially intended for but rather produce two unique classification problems. If useful knowledge has been mined from this data, an accurate classification algorithm will be produced for the desired variables selected. Ten-fold cross validation will be used to assess if useful knowledge has been mined."
   ]
  },
  {
   "cell_type": "markdown",
   "metadata": {},
   "source": [
    "For these studies, association rules will be created. Association rule mining is likelihood of co-occurence and there is no causality. The effectiveness of a good prediction apriori algorithm will be assessed by confidence of the outcome. This validation method of apriori algorithm will help graduate schools to target students who might be interested for higher studies. Since, we do not need any causality here, so association rule will work just fine. "
   ]
  },
  {
   "cell_type": "markdown",
   "metadata": {},
   "source": [
    "With current pandemic, grad schools are facing dropping number of enrollment which is due to various reasons (i.e. contamination issue at campus, layoff and furloughs in many different comanies forcing working students to take break). Grad schools can target students who are more likely to pursue in higher studies by giving them scholarships and lure them to enroll."
   ]
  },
  {
   "cell_type": "markdown",
   "metadata": {},
   "source": [
    "## Data Understanding 1"
   ]
  },
  {
   "cell_type": "markdown",
   "metadata": {},
   "source": [
    "The census dataset was grabbed from the UCI Machine Learning repository. To learn more about this dataset please visit the hyperlink that is attached in the above segments. \n",
    "\n",
    "Overall this dataset includes about 40 attributes and all varying around census information around the year 1994 and 1995. We decided to include almost all attributes to help us with our classification models in subsequent labs. Below is the high level breakdown of each attribute:\n",
    "\n",
    "|Attribute\t       | Type of Data\t |     Description    |\n",
    "|:-----------------|:---------------:|:-------------------|\n",
    "|Age\t           | Nominal\t     | -Age of each individual|\n",
    "|Class of Worker   | Nominal\t     | -This is the information of what industry the person works in |\n",
    "|Industry Code\t   | Integer         | -The code of the industry they work in, if applicable|\n",
    "|Occupation Code   | Integer\t     | -The code associated with their occupation|\n",
    "|Education\t       | Nominal\t     | -The level of education the person received |\n",
    "|Wage per hour\t   | Integer         | -How much the person makes per hour |\n",
    "|Marital status\t   | Nominal         | -This is whether the person is married, single, or  divorced |\n",
    "|Major Industry code| Nominal        | -The actual description of the industry, e.g. Construction, Finance, etc… |\n",
    "|Major occupation code| Nominal\t     | -Description of the role of the individual |\n",
    "|Race \t              | Nominal\t     | -Race of the individual e.g. Caucasian, Asian, Hispanic, etc… |\n",
    "|Hispanic Origin\t  | Nominal\t     | -Whether the individual has a hispanic origin |\n",
    "|Sex\t              | Binary\t     | -The gender of the individual, Male or Female |\n",
    "|Member_of_labor union| Nominal\t     | -This tells us if they are a member of a labor union|\n",
    "|Reason for unemployment| Nominal\t | -The reason for unemployment if not employed |\n",
    "|Full or part time employment stat|\t Nominal | -The working status of the individual |\n",
    "|Capital gains\t| Integer\t         | -Their overall capital gains this year |\n",
    "|Capital losses | Integer            | -The overall loss to the capital gains |\n",
    "|Dividends from stocks|\tInteger\t     | -The return that was gained if the individual owns any stocks |\n",
    "|Tax filer status |\tBinary\t         | -This is the current status for their tax filing |\n",
    "|Region of previous residence | Nominal\t| -The region the individual lived in before |\n",
    "|State of previous residence  | Nominal\t|     -The state the individual lived previously, if applicable |\n",
    "|Detailed household and family stat | Nominal |    -Statistic of the individual in a household and the family as a whole|\n",
    "|Detailed household summary in household |\tNominal\t| -Overall summary that closely depicts the members of the household|\n",
    "|Instance weight | Double\t|   -Number of people in the population that each record represents duel to stratified sampling|\n",
    "|Migration code-change in msa | Nominal\t| -Information regarding whether the person moved to the state|\n",
    "|Migration code-change in reg |  Nominal |\t     -Originated from the region and whether they moved to the region or away |\n",
    "|Migration code-move within reg | Nominal\t|   -Same as above |\n",
    "|Migration prev res in sunbelt |\tNominal\t|  -Previously lived in the sunbelt  |\n",
    "|Num persons worked for employer | Nominal\t| -The number of previous employers the individual worked for |\n",
    "|Family members under 18 | Nominal | -Family members under the age of 18 |\n",
    "|Country of birth father | Nominal\t| -The country of birth for the father of the individual |\n",
    "|Country of birth mother | Nominal\t| -The country of birth for the mother of the individual |\n",
    "|Country of birth self \t | Nominal\t| -The country of birth for the individual |\n",
    "|Citizenship \t         | Binary\t| -Whether they are a citizen of the country or not |\n",
    "|Total person income\t | Binary\t| -Income of the peson for the year, above 50k or below 50k |\n",
    "|Own business or self employed | \tNominal |\t -If they own a business or are self-employed |\n",
    "|Veterans benefits\t| Ordinal  |  -The benefit tier for a veteran |\n",
    "|Weeks worked in year |\tInteger | -Number of weeks worked that given year for the person |\n",
    "\n",
    "As seen above, our dataset incorporates a miriad of attributes. These attributes range from age to veteran information. We decided to keep all of these variables and remove the features that will not benefit our ML models in the subsequent labs that follow. There are some attributes such as veteran benefits, that are ambiguous and not enough information for us to interpret the values.\n",
    "\n",
    "Some attributes that we want to elaborate a little bit more on is as follows:\n",
    "\n",
    "Previous migration under the sunbelt:\n",
    "\n",
    "This field is basically describing information about individuals that previously migrated from states that were under the sunbelt. These are states that stretch across the Southeast and Southwest regions. (E.G. Socal, Texas, Atlanta, etc...) More information can be found [here](https://www.census.gov/quickfacts/fact/map/US/PST045219).\n",
    "\n",
    "Industry Code and Major Industry Code:\n",
    "This is the numerical value for each industry, the code matches up with the \"Major Industry Code\" which tells us the actual name of the industy.\n",
    "\n",
    "Occupation Code and Major Occupation Code:\n",
    "These two attributes are related with each other. The occupation code gives us the numerical value for each occupation. This code matches up with the \"Major Occupation Code\" attribute which tells us the actual name of the occupation.\n"
   ]
  },
  {
   "cell_type": "code",
   "execution_count": 1,
   "metadata": {},
   "outputs": [],
   "source": [
    "#Importing the libraries we need for this analysis\n",
    "\n",
    "import numpy as np\n",
    "import pandas as pd \n",
    "\n",
    "import matplotlib.pyplot as plt\n",
    "import matplotlib.style as style\n",
    "import scipy.stats as stats\n",
    "import seaborn as sns\n",
    "%matplotlib inline\n",
    "style.use('bmh') ## style for charts"
   ]
  },
  {
   "cell_type": "markdown",
   "metadata": {},
   "source": [
    "So most of the missing values are characterized as \"Not in Universe\" which basically means that this information does not apply to that specific individual. For example, an person that is under the age of 18 would not have class_worker information. This is not something we want to impute since these are technically not missing values and likely not mistakes.\n",
    "We observed a large number of values for capital gains and stock dividends that had values of 99999. Additionally, values of 9999 for instances such as wage_per_hour. We believed these values were capped and are not error, for that reason they will be left as is. We are not planning to use it in our assocation rule method."
   ]
  },
  {
   "cell_type": "markdown",
   "metadata": {},
   "source": [
    "## Modeling and Evaluation"
   ]
  },
  {
   "cell_type": "code",
   "execution_count": null,
   "metadata": {},
   "outputs": [],
   "source": []
  },
  {
   "cell_type": "markdown",
   "metadata": {},
   "source": [
    "#### Option B: Association Rule Mining"
   ]
  },
  {
   "cell_type": "markdown",
   "metadata": {},
   "source": [
    "-  [10 Points] Train and adjust parameters\n",
    "\n",
    "Detail to be added"
   ]
  },
  {
   "cell_type": "markdown",
   "metadata": {},
   "source": [
    "-  [10 Points] Evaluate and Compare\n",
    "\n",
    "Detail to be added"
   ]
  },
  {
   "cell_type": "markdown",
   "metadata": {},
   "source": [
    "-  [10 Points] Visualize Results"
   ]
  },
  {
   "cell_type": "code",
   "execution_count": null,
   "metadata": {},
   "outputs": [],
   "source": [
    "plot(is_max_grad)\n",
    "plot(is_max_income)"
   ]
  },
  {
   "cell_type": "markdown",
   "metadata": {},
   "source": [
    "In the above scatter plot the support and confidence of the rules for income over $50k and graduated and displayed. For graduated we were able to find 2 rules with about 3% support and one rule with over 4%, the confidences and lift were all comparable with confidence around 75%. For income, the three maximal rules we found all had similar support around 1.5% but ranged in confidence from 25% to 30%."
   ]
  },
  {
   "cell_type": "code",
   "execution_count": null,
   "metadata": {},
   "outputs": [],
   "source": [
    "plot(is_max_grad, method=\"graph\")\n",
    "plot(is_max_income, method=\"graph\")"
   ]
  },
  {
   "cell_type": "markdown",
   "metadata": {},
   "source": [
    "In the above plot features that combined to form these rules are shown. For graduated: professional specialty occupation codes, married with spouse present, white, tax filers joint under 65 and native born citizen were the combination of factors coincided with graduation. Each of these contributed to at least 2 of the 3 rulesets generated.\n",
    "\n",
    "For income the rule sets associated with income over $50k are: males with a bachelor degree or white people that worked in professional specialty or were native born citizens in executive admin/ management."
   ]
  },
  {
   "cell_type": "markdown",
   "metadata": {},
   "source": [
    "-  [20 Points] Summarize the Ramifications\n",
    "\n",
    "Detail to be added"
   ]
  },
  {
   "cell_type": "markdown",
   "metadata": {},
   "source": [
    "## Deployment"
   ]
  },
  {
   "cell_type": "markdown",
   "metadata": {},
   "source": [
    "\n",
    "The below companies and parties might want to use our model to predict the following:\n",
    "\n",
    "To predict income:\n",
    "- IRS\n",
    "- Marketing agencies\n",
    "- Real Estate\n",
    "\n",
    "To predict graduation:\n",
    "- Job agency\n",
    "- Political parties\n",
    "- Graduate school recruiting\n",
    "\n",
    "\n",
    "Graduate schools can use this model to target students who are more likely to do higher studies based on other attributes that are associated with higher education. \n",
    "\n",
    "The model can be deployed in the cloud environment for high availability and scaling. The pipeline was designed so it can process the unseen data which than can be used in the model. This is so that anyone can easily utilize the model to process the unseen data. Other data that can be collected is real estate information (rent or own, type of home, price of home, etc…) and whether this individual will want to pursue a higher education. This type of model can be updated monthly based on additional data that is collected. However, updating more than a month is not necessary because these types of attributes are not prone to frequent change."
   ]
  },
  {
   "cell_type": "markdown",
   "metadata": {},
   "source": [
    "## Exceptional Work"
   ]
  },
  {
   "cell_type": "markdown",
   "metadata": {},
   "source": []
  },
  {
   "cell_type": "markdown",
   "metadata": {},
   "source": [
    "### Sources"
   ]
  },
  {
   "cell_type": "markdown",
   "metadata": {},
   "source": [
    "UCI Citation for dataset:\n",
    "Dua, D. and Graff, C. (2019). UCI Machine Learning Repository [http://archive.ics.uci.edu/ml]. Irvine, CA: University of California, School of Information and Computer Science.\n",
    "\n",
    "[Direct Link to Census-Income Dataset](https://www2.1010data.com/documentationcenter/prod/Tutorials/MachineLearningExamples/CensusIncomeDataSet.html)\n",
    "\n",
    "[History of the Current Population Survey](https://www.census.gov/programs-surveys/cps/about/history-of-the-cps.html).\n",
    "\n",
    "[Methodology of the Current Population Survey](https://www.census.gov/programs-surveys/cps/technical-documentation/methodology.html)\n",
    "\n",
    "[Current Population Survey: Supplemental Survey Topics](https://www.census.gov/programs-surveys/cps/about/supplemental-surveys.html)\n",
    "\n",
    "[Link to the Census Gov Page for Sunbelt States](https://www.census.gov/quickfacts/fact/map/US/PST045219)"
   ]
  },
  {
   "cell_type": "code",
   "execution_count": null,
   "metadata": {},
   "outputs": [],
   "source": []
  }
 ],
 "metadata": {
  "kernelspec": {
   "display_name": "Python 3",
   "language": "python",
   "name": "python3"
  },
  "language_info": {
   "codemirror_mode": {
    "name": "ipython",
    "version": 3
   },
   "file_extension": ".py",
   "mimetype": "text/x-python",
   "name": "python",
   "nbconvert_exporter": "python",
   "pygments_lexer": "ipython3",
   "version": "3.7.7"
  }
 },
 "nbformat": 4,
 "nbformat_minor": 4
}
