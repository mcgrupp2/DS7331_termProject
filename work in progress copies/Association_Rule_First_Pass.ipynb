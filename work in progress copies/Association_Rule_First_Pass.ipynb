{
 "cells": [
  {
   "cell_type": "code",
   "execution_count": 3,
   "metadata": {},
   "outputs": [],
   "source": [
    "#Loading Libraries\n",
    "import warnings\n",
    "warnings.filterwarnings('ignore')\n",
    "\n",
    "import datetime\n",
    "import itertools\n",
    "import os\n",
    "import pathlib\n",
    "import sklearn\n",
    "\n",
    "import numpy as np\n",
    "import pandas as pd\n",
    "import seaborn as sns\n",
    "import scipy.stats as stats\n",
    "\n",
    "from matplotlib import pyplot as plt\n",
    "from sklearn.model_selection import train_test_split\n",
    "from sklearn.metrics import mean_squared_error\n",
    "from sklearn.feature_selection import RFE, RFECV\n",
    "from sklearn.model_selection import StratifiedKFold\n",
    "from sklearn.linear_model import LogisticRegression\n",
    "from sklearn.ensemble import AdaBoostClassifier\n",
    "from sklearn.tree import DecisionTreeClassifier\n",
    "from sklearn import metrics as mt\n",
    "from sklearn.pipeline import Pipeline\n",
    "from sklearn.impute import SimpleImputer\n",
    "from sklearn.preprocessing import StandardScaler, OneHotEncoder\n",
    "from sklearn.compose import ColumnTransformer\n",
    "from sklearn.metrics import accuracy_score\n",
    "from sklearn.model_selection import GridSearchCV\n",
    "from sklearn.svm import SVC\n",
    "from sklearn.base import BaseEstimator, TransformerMixin\n",
    "\n",
    "np.random.seed(1)"
   ]
  },
  {
   "cell_type": "code",
   "execution_count": 4,
   "metadata": {},
   "outputs": [],
   "source": [
    "# Header names\n",
    "\n",
    "header_names = [\n",
    "    'age',\n",
    "    'class_worker',\n",
    "    'det_ind_code',\n",
    "    'det_occ_code',\n",
    "    'education',\n",
    "    'wage_per_hour',\n",
    "    'hs_college',\n",
    "    'marital_stat',\n",
    "    'major_ind_code',\n",
    "    'major_occ_code',\n",
    "    'race',\n",
    "    'hisp_origin',\n",
    "    'sex',\n",
    "    'union_member',\n",
    "    'unemp_reason',\n",
    "    'full_or_part_emp',\n",
    "    'capital_gains',\n",
    "    'capital_losses',\n",
    "    'stock_dividends',\n",
    "    'tax_filer_stat',\n",
    "    'region_prev_res',\n",
    "    'state_prev_res',\n",
    "    'det_hh_fam_stat',\n",
    "    'det_hh_summ',\n",
    "    'instance_weight', ## this field is not used as a feature\n",
    "    'mig_chg_msa',\n",
    "    'mig_chg_reg',\n",
    "    'mig_move_reg',\n",
    "    'mig_same',\n",
    "    'mig_prev_sunbelt',\n",
    "    'num_emp',\n",
    "    'fam_under_18',\n",
    "    'country_father',\n",
    "    'country_mother',\n",
    "    'country_self',\n",
    "    'citizenship',\n",
    "    'own_or_self',\n",
    "    'vet_question',\n",
    "    'vet_benefits',\n",
    "    'weeks_worked',\n",
    "    'year',\n",
    "    'income_50k',\n",
    "]"
   ]
  },
  {
   "cell_type": "code",
   "execution_count": 5,
   "metadata": {},
   "outputs": [],
   "source": [
    "# Load data\n",
    "data_dir = os.path.join(pathlib.Path(os.getcwd()).parent, 'data')\n",
    "df = pd.read_csv(os.path.join(data_dir, 'census-income.data.csv'), header=None, names=header_names)\n",
    "df_test = pd.read_csv(os.path.join(data_dir, 'census-income.test.csv'), header=None, names=header_names)\n",
    "df = pd.concat([df,df_test]) ## the test file is also labelled so they can be merged\n",
    "df = df.drop(columns=['instance_weight']) ## not used for our analysis"
   ]
  },
  {
   "cell_type": "code",
   "execution_count": 6,
   "metadata": {},
   "outputs": [
    {
     "name": "stdout",
     "output_type": "stream",
     "text": [
      "<class 'pandas.core.frame.DataFrame'>\n",
      "Int64Index: 299285 entries, 0 to 99761\n",
      "Data columns (total 41 columns):\n",
      " #   Column            Non-Null Count   Dtype \n",
      "---  ------            --------------   ----- \n",
      " 0   age               299285 non-null  int64 \n",
      " 1   class_worker      299285 non-null  object\n",
      " 2   det_ind_code      299285 non-null  int64 \n",
      " 3   det_occ_code      299285 non-null  int64 \n",
      " 4   education         299285 non-null  object\n",
      " 5   wage_per_hour     299285 non-null  int64 \n",
      " 6   hs_college        299285 non-null  object\n",
      " 7   marital_stat      299285 non-null  object\n",
      " 8   major_ind_code    299285 non-null  object\n",
      " 9   major_occ_code    299285 non-null  object\n",
      " 10  race              299285 non-null  object\n",
      " 11  hisp_origin       299285 non-null  object\n",
      " 12  sex               299285 non-null  object\n",
      " 13  union_member      299285 non-null  object\n",
      " 14  unemp_reason      299285 non-null  object\n",
      " 15  full_or_part_emp  299285 non-null  object\n",
      " 16  capital_gains     299285 non-null  int64 \n",
      " 17  capital_losses    299285 non-null  int64 \n",
      " 18  stock_dividends   299285 non-null  int64 \n",
      " 19  tax_filer_stat    299285 non-null  object\n",
      " 20  region_prev_res   299285 non-null  object\n",
      " 21  state_prev_res    299285 non-null  object\n",
      " 22  det_hh_fam_stat   299285 non-null  object\n",
      " 23  det_hh_summ       299285 non-null  object\n",
      " 24  mig_chg_msa       299285 non-null  object\n",
      " 25  mig_chg_reg       299285 non-null  object\n",
      " 26  mig_move_reg      299285 non-null  object\n",
      " 27  mig_same          299285 non-null  object\n",
      " 28  mig_prev_sunbelt  299285 non-null  object\n",
      " 29  num_emp           299285 non-null  int64 \n",
      " 30  fam_under_18      299285 non-null  object\n",
      " 31  country_father    299285 non-null  object\n",
      " 32  country_mother    299285 non-null  object\n",
      " 33  country_self      299285 non-null  object\n",
      " 34  citizenship       299285 non-null  object\n",
      " 35  own_or_self       299285 non-null  int64 \n",
      " 36  vet_question      299285 non-null  object\n",
      " 37  vet_benefits      299285 non-null  int64 \n",
      " 38  weeks_worked      299285 non-null  int64 \n",
      " 39  year              299285 non-null  int64 \n",
      " 40  income_50k        299285 non-null  object\n",
      "dtypes: int64(12), object(29)\n",
      "memory usage: 95.9+ MB\n"
     ]
    }
   ],
   "source": [
    "df.info()"
   ]
  },
  {
   "cell_type": "code",
   "execution_count": 7,
   "metadata": {},
   "outputs": [],
   "source": [
    "# Categorical features in the data, variable will be used for one-hot encoding\n",
    "categorical_features = [\n",
    "    'class_worker',\n",
    "    'det_ind_code',\n",
    "    'det_occ_code',\n",
    "    'education',\n",
    "    'hs_college',\n",
    "    'marital_stat',\n",
    "    'major_ind_code',\n",
    "    'major_occ_code',\n",
    "    'race',\n",
    "    'hisp_origin',\n",
    "    'sex',\n",
    "    'union_member',\n",
    "    'unemp_reason',\n",
    "    'full_or_part_emp',\n",
    "    'tax_filer_stat',\n",
    "    'region_prev_res',\n",
    "    'state_prev_res',\n",
    "    'det_hh_fam_stat',\n",
    "    'det_hh_summ',\n",
    "    'mig_chg_msa',\n",
    "    'mig_chg_reg',\n",
    "    'mig_move_reg',\n",
    "    'mig_same',\n",
    "    'mig_prev_sunbelt',\n",
    "    'fam_under_18',\n",
    "    'country_father',\n",
    "    'country_mother',\n",
    "    'country_self',\n",
    "    'citizenship',\n",
    "    'own_or_self',\n",
    "    'vet_question',\n",
    "    'vet_benefits',\n",
    "    'year',\n",
    "]\n",
    "df[categorical_features] = df[categorical_features].astype('category')"
   ]
  },
  {
   "cell_type": "code",
   "execution_count": 8,
   "metadata": {},
   "outputs": [],
   "source": [
    "### Drop columns not used in modelling\n",
    "df = df.drop(\n",
    "    columns=[\n",
    "        'region_prev_res',\n",
    "        'state_prev_res',\n",
    "        'det_hh_fam_stat',\n",
    "        'det_hh_summ',\n",
    "        'mig_chg_msa',\n",
    "        'mig_chg_reg',\n",
    "        'mig_move_reg',\n",
    "        'mig_same',\n",
    "        'mig_prev_sunbelt',\n",
    "        'country_father',\n",
    "        'country_mother',\n",
    "        'country_self',\n",
    "        'year',\n",
    "    ]\n",
    ")"
   ]
  },
  {
   "cell_type": "code",
   "execution_count": 9,
   "metadata": {},
   "outputs": [],
   "source": [
    "def preprocess_pipeline(numeric_features, categorical_features):\n",
    "    ### Scale numerical, one hot categorical\n",
    "\n",
    "    numeric_transformer = Pipeline(\n",
    "        steps=[\n",
    "            #('imputer', SimpleImputer(strategy='median')),\n",
    "            ('scaler', StandardScaler()),\n",
    "        ]\n",
    "    )\n",
    "    categorical_transformer = Pipeline(\n",
    "        steps=[\n",
    "            #('imputer', SimpleImputer(strategy='constant', fill_value='missing')),\n",
    "            ('onehot', OneHotEncoder(handle_unknown='ignore')),\n",
    "        ]\n",
    "    )\n",
    "    preprocessor = ColumnTransformer(\n",
    "        transformers=[\n",
    "            ('num', numeric_transformer, numeric_features),\n",
    "            ('cat', categorical_transformer, categorical_features)]\n",
    "    )\n",
    "    preprocess_pipe = Pipeline(\n",
    "        steps=[\n",
    "            ('preprocessor', preprocessor),\n",
    "        ]\n",
    "    )\n",
    "    \n",
    "    return preprocess_pipe"
   ]
  },
  {
   "cell_type": "code",
   "execution_count": 10,
   "metadata": {},
   "outputs": [
    {
     "name": "stdout",
     "output_type": "stream",
     "text": [
      "<class 'pandas.core.frame.DataFrame'>\n",
      "Int64Index: 299285 entries, 0 to 99761\n",
      "Data columns (total 28 columns):\n",
      " #   Column            Non-Null Count   Dtype   \n",
      "---  ------            --------------   -----   \n",
      " 0   age               299285 non-null  int64   \n",
      " 1   class_worker      299285 non-null  category\n",
      " 2   det_ind_code      299285 non-null  category\n",
      " 3   det_occ_code      299285 non-null  category\n",
      " 4   education         299285 non-null  category\n",
      " 5   wage_per_hour     299285 non-null  int64   \n",
      " 6   hs_college        299285 non-null  category\n",
      " 7   marital_stat      299285 non-null  category\n",
      " 8   major_ind_code    299285 non-null  category\n",
      " 9   major_occ_code    299285 non-null  category\n",
      " 10  race              299285 non-null  category\n",
      " 11  hisp_origin       299285 non-null  category\n",
      " 12  sex               299285 non-null  category\n",
      " 13  union_member      299285 non-null  category\n",
      " 14  unemp_reason      299285 non-null  category\n",
      " 15  full_or_part_emp  299285 non-null  category\n",
      " 16  capital_gains     299285 non-null  int64   \n",
      " 17  capital_losses    299285 non-null  int64   \n",
      " 18  stock_dividends   299285 non-null  int64   \n",
      " 19  tax_filer_stat    299285 non-null  category\n",
      " 20  num_emp           299285 non-null  int64   \n",
      " 21  fam_under_18      299285 non-null  category\n",
      " 22  citizenship       299285 non-null  category\n",
      " 23  own_or_self       299285 non-null  category\n",
      " 24  vet_question      299285 non-null  category\n",
      " 25  vet_benefits      299285 non-null  category\n",
      " 26  weeks_worked      299285 non-null  int64   \n",
      " 27  income_50k        299285 non-null  object  \n",
      "dtypes: category(20), int64(7), object(1)\n",
      "memory usage: 26.3+ MB\n"
     ]
    }
   ],
   "source": [
    "# This is section one of the data processing, will be using the same data as shown in the minilab\n",
    "df.info()"
   ]
  },
  {
   "cell_type": "code",
   "execution_count": 11,
   "metadata": {},
   "outputs": [],
   "source": [
    "# Sampling the dataset\n",
    "selection_df = df.sample(frac = .07)"
   ]
  },
  {
   "cell_type": "code",
   "execution_count": 12,
   "metadata": {},
   "outputs": [
    {
     "data": {
      "text/plain": [
       "(20950, 28)"
      ]
     },
     "execution_count": 12,
     "metadata": {},
     "output_type": "execute_result"
    }
   ],
   "source": [
    "selection_df.shape"
   ]
  },
  {
   "cell_type": "code",
   "execution_count": 13,
   "metadata": {},
   "outputs": [],
   "source": [
    "numeric_features = selection_df.select_dtypes(include=['int64', 'float64']).columns\n",
    "categorical_features_income = selection_df.select_dtypes(include=['object','bool', 'category']).drop(['income_50k'], axis=1).columns\n",
    "X_selection_income = selection_df.drop('income_50k', axis=1)\n",
    "y_selection_income = pd.DataFrame(selection_df['income_50k'])\n",
    "preprocessor_income = preprocess_pipeline(numeric_features, categorical_features_income)\n",
    "X_selection_preprocessed_income = preprocessor_income.fit_transform(X_selection_income)"
   ]
  },
  {
   "cell_type": "code",
   "execution_count": 14,
   "metadata": {},
   "outputs": [],
   "source": [
    "higer_degrees = [\n",
    "    ' Bachelors degree(BA AB BS)', \n",
    "    ' Masters degree(MA MS MEng MEd MSW MBA)', \n",
    "    ' Prof school degree (MD DDS DVM LLB JD)',\n",
    "    ' Doctorate degree(PhD EdD)',\n",
    "]\n",
    "selection_df['graduated'] = 'no'\n",
    "selection_df.loc[selection_df['education'].isin(higer_degrees), 'graduated'] = 'yes'\n",
    "selection_df = selection_df.drop(['education', 'hs_college'], axis=1)"
   ]
  },
  {
   "cell_type": "code",
   "execution_count": 15,
   "metadata": {},
   "outputs": [
    {
     "name": "stdout",
     "output_type": "stream",
     "text": [
      "<class 'pandas.core.frame.DataFrame'>\n",
      "Int64Index: 20950 entries, 67087 to 17653\n",
      "Data columns (total 27 columns):\n",
      " #   Column            Non-Null Count  Dtype   \n",
      "---  ------            --------------  -----   \n",
      " 0   age               20950 non-null  int64   \n",
      " 1   class_worker      20950 non-null  category\n",
      " 2   det_ind_code      20950 non-null  category\n",
      " 3   det_occ_code      20950 non-null  category\n",
      " 4   wage_per_hour     20950 non-null  int64   \n",
      " 5   marital_stat      20950 non-null  category\n",
      " 6   major_ind_code    20950 non-null  category\n",
      " 7   major_occ_code    20950 non-null  category\n",
      " 8   race              20950 non-null  category\n",
      " 9   hisp_origin       20950 non-null  category\n",
      " 10  sex               20950 non-null  category\n",
      " 11  union_member      20950 non-null  category\n",
      " 12  unemp_reason      20950 non-null  category\n",
      " 13  full_or_part_emp  20950 non-null  category\n",
      " 14  capital_gains     20950 non-null  int64   \n",
      " 15  capital_losses    20950 non-null  int64   \n",
      " 16  stock_dividends   20950 non-null  int64   \n",
      " 17  tax_filer_stat    20950 non-null  category\n",
      " 18  num_emp           20950 non-null  int64   \n",
      " 19  fam_under_18      20950 non-null  category\n",
      " 20  citizenship       20950 non-null  category\n",
      " 21  own_or_self       20950 non-null  category\n",
      " 22  vet_question      20950 non-null  category\n",
      " 23  vet_benefits      20950 non-null  category\n",
      " 24  weeks_worked      20950 non-null  int64   \n",
      " 25  income_50k        20950 non-null  object  \n",
      " 26  graduated         20950 non-null  object  \n",
      "dtypes: category(18), int64(7), object(2)\n",
      "memory usage: 2.0+ MB\n"
     ]
    }
   ],
   "source": [
    "selection_df.info()"
   ]
  },
  {
   "cell_type": "code",
   "execution_count": 16,
   "metadata": {},
   "outputs": [],
   "source": [
    "categorical_features_grad = selection_df.select_dtypes(include=['object','bool', 'category']).drop(['graduated'], axis=1).columns\n",
    "X_selection_grad = selection_df.drop(columns=['graduated'])\n",
    "y_selection_grad = pd.DataFrame(selection_df['graduated'])\n",
    "preprocessor_grad = preprocess_pipeline(numeric_features, categorical_features_grad)\n",
    "X_selection_preprocessed_grad = preprocessor_grad.fit_transform(X_selection_grad)"
   ]
  },
  {
   "cell_type": "code",
   "execution_count": 17,
   "metadata": {},
   "outputs": [],
   "source": [
    "tmp_df = pd.get_dummies(y_selection_income['income_50k'])\n",
    "\n",
    "y_selection_income = pd.concat((y_selection_income,tmp_df),axis=1)\n",
    "\n",
    "y_selection_income[\"above_50k\"] = y_selection_income[\" 50000+.\"]\n",
    "\n",
    "y_selection_income=y_selection_income.drop(['income_50k', \" - 50000.\", \" 50000+.\"], axis=1)"
   ]
  },
  {
   "cell_type": "code",
   "execution_count": 18,
   "metadata": {},
   "outputs": [],
   "source": [
    "tmp_df = pd.get_dummies(y_selection_grad['graduated'])\n",
    "\n",
    "y_selection_grad = pd.concat((y_selection_grad,tmp_df),axis=1)\n",
    "\n",
    "y_selection_grad[\"graduated\"] = y_selection_grad[\"yes\"]\n",
    "\n",
    "y_selection_grad=y_selection_grad.drop(['yes', \"no\"], axis=1)"
   ]
  },
  {
   "cell_type": "code",
   "execution_count": 19,
   "metadata": {},
   "outputs": [],
   "source": [
    "### Make a list of all the columns after one hot encoding\n",
    "ohe_income = preprocessor_income['preprocessor'].named_transformers_['cat']['onehot']\n",
    "cat_processed_income = ohe_income.get_feature_names(X_selection_income[categorical_features_income].columns)\n",
    "all_processed_cols_income = np.concatenate((numeric_features, cat_processed_income), axis=0)"
   ]
  },
  {
   "cell_type": "code",
   "execution_count": 20,
   "metadata": {},
   "outputs": [],
   "source": [
    "ohe_grad = preprocessor_grad['preprocessor'].named_transformers_['cat']['onehot']\n",
    "cat_processed_grad = ohe_grad.get_feature_names(X_selection_grad[categorical_features_grad].columns)\n",
    "all_processed_cols_grad = np.concatenate((numeric_features, cat_processed_grad), axis=0)"
   ]
  },
  {
   "cell_type": "code",
   "execution_count": 31,
   "metadata": {},
   "outputs": [],
   "source": [
    "selection_df.to_csv('selectionDF.csv')"
   ]
  },
  {
   "cell_type": "code",
   "execution_count": 24,
   "metadata": {},
   "outputs": [],
   "source": [
    "from rpy2.robjects.packages import importr\n",
    "from rpy2 import robjects as robj"
   ]
  },
  {
   "cell_type": "code",
   "execution_count": 27,
   "metadata": {},
   "outputs": [
    {
     "name": "stdout",
     "output_type": "stream",
     "text": [
      "The rmagic extension is already loaded. To reload it, use:\n",
      "  %reload_ext rmagic\n"
     ]
    }
   ],
   "source": [
    "%load_ext rmagic\n",
    "%load_ext rpy2.ipython\n",
    "\n",
    "arules = importr('arules')\n",
    "arules_viz = importr('arulesViz')"
   ]
  },
  {
   "cell_type": "code",
   "execution_count": 30,
   "metadata": {},
   "outputs": [
    {
     "name": "stdout",
     "output_type": "stream",
     "text": [
      "\n",
      "Error in readChar(con, 5L, useBytes = TRUE) : cannot open the connection\n",
      "\n",
      "Error in .class1(object) : object 'census' not found\n",
      "\n",
      "Error in sort(rules, by = \"lift\") : object 'rules' not found\n",
      "\n",
      "Error in plot(rules.sorted, method = \"grouped\") : \n",
      "  object 'rules.sorted' not found\n",
      "Arules run now from R, test complete\n"
     ]
    }
   ],
   "source": [
    "%R load('census-income.data.csv')\n",
    "%R rules <- apriori(census-income.data.csv,parameter = list(minlen=2, supp=0.05, conf=0.8))\n",
    "%R rules.sorted <- sort(rules, by=\"lift\")\n",
    "%R plot(rules.sorted, method=\"grouped\")\n",
    "\n",
    "print('Arules run now from R, test complete')"
   ]
  },
  {
   "cell_type": "code",
   "execution_count": null,
   "metadata": {},
   "outputs": [],
   "source": []
  }
 ],
 "metadata": {
  "kernelspec": {
   "display_name": "Python 3",
   "language": "python",
   "name": "python3"
  },
  "language_info": {
   "codemirror_mode": {
    "name": "ipython",
    "version": 3
   },
   "file_extension": ".py",
   "mimetype": "text/x-python",
   "name": "python",
   "nbconvert_exporter": "python",
   "pygments_lexer": "ipython3",
   "version": "3.7.7"
  }
 },
 "nbformat": 4,
 "nbformat_minor": 2
}
