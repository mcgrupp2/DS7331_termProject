{
 "cells": [
  {
   "cell_type": "markdown",
   "metadata": {},
   "source": [
    "## Lab 2: Classification\n",
    "Group 2 Team Members:\n",
    "\n",
    "- Name 1: Aniketh Vankina\n",
    "- Name 2: Indy Dhillon \n",
    "- Name 3: Jason Rupp \n",
    "- Name 4: Suchismita Moharana "
   ]
  },
  {
   "cell_type": "markdown",
   "metadata": {},
   "source": [
    "# Intro"
   ]
  },
  {
   "cell_type": "markdown",
   "metadata": {},
   "source": [
    "The dataset selected for this project was collected by the US Census Bureau and the Bureau of Labor Statistics over the course of 1994 and 1995 for the Current Population Survey (CPS). The main purpose of the CPS is to obtain current information on the status of the labor force in the United States. More specifically, this survey is conducted to enumerate the number of jobless and unemployed individuals as well as to get an idea about the social well-being of the citizens. This data was obtained from the University of California Irvine Machine Learning repository, which a citation and a direct link to the dataset can be found [here](https://www2.1010data.com/documentationcenter/prod/Tutorials/MachineLearningExamples/CensusIncomeDataSet.html). \n",
    "\n",
    "The purpose of this project is to perform classification tasks with differing machine learning models on two features of this data set and explain the findings."
   ]
  },
  {
   "cell_type": "code",
   "execution_count": 1,
   "metadata": {},
   "outputs": [],
   "source": [
    "#Loading Libraries\n",
    "import warnings\n",
    "warnings.filterwarnings('ignore')\n",
    "\n",
    "import datetime\n",
    "import itertools\n",
    "import os\n",
    "import pathlib\n",
    "import sklearn\n",
    "\n",
    "import numpy as np\n",
    "import pandas as pd\n",
    "import seaborn as sns\n",
    "import scipy.stats as stats\n",
    "\n",
    "from matplotlib import pyplot as plt\n",
    "from sklearn.model_selection import train_test_split\n",
    "from sklearn.metrics import mean_squared_error\n",
    "from sklearn.feature_selection import RFE, RFECV\n",
    "from sklearn.model_selection import StratifiedKFold\n",
    "from sklearn.linear_model import LogisticRegression\n",
    "from sklearn.ensemble import AdaBoostClassifier\n",
    "from sklearn.tree import DecisionTreeClassifier\n",
    "from sklearn import metrics as mt\n",
    "from sklearn.pipeline import Pipeline\n",
    "from sklearn.impute import SimpleImputer\n",
    "from sklearn.preprocessing import StandardScaler, OneHotEncoder\n",
    "from sklearn.compose import ColumnTransformer\n",
    "from sklearn.metrics import accuracy_score\n",
    "from sklearn.model_selection import GridSearchCV\n",
    "from sklearn.svm import SVC\n",
    "from sklearn.base import BaseEstimator, TransformerMixin\n",
    "\n",
    "np.random.seed(1)"
   ]
  },
  {
   "cell_type": "code",
   "execution_count": 2,
   "metadata": {},
   "outputs": [],
   "source": [
    "# Header names\n",
    "\n",
    "header_names = [\n",
    "    'age',\n",
    "    'class_worker',\n",
    "    'det_ind_code',\n",
    "    'det_occ_code',\n",
    "    'education',\n",
    "    'wage_per_hour',\n",
    "    'hs_college',\n",
    "    'marital_stat',\n",
    "    'major_ind_code',\n",
    "    'major_occ_code',\n",
    "    'race',\n",
    "    'hisp_origin',\n",
    "    'sex',\n",
    "    'union_member',\n",
    "    'unemp_reason',\n",
    "    'full_or_part_emp',\n",
    "    'capital_gains',\n",
    "    'capital_losses',\n",
    "    'stock_dividends',\n",
    "    'tax_filer_stat',\n",
    "    'region_prev_res',\n",
    "    'state_prev_res',\n",
    "    'det_hh_fam_stat',\n",
    "    'det_hh_summ',\n",
    "    'instance_weight', ## this field is not used as a feature\n",
    "    'mig_chg_msa',\n",
    "    'mig_chg_reg',\n",
    "    'mig_move_reg',\n",
    "    'mig_same',\n",
    "    'mig_prev_sunbelt',\n",
    "    'num_emp',\n",
    "    'fam_under_18',\n",
    "    'country_father',\n",
    "    'country_mother',\n",
    "    'country_self',\n",
    "    'citizenship',\n",
    "    'own_or_self',\n",
    "    'vet_question',\n",
    "    'vet_benefits',\n",
    "    'weeks_worked',\n",
    "    'year',\n",
    "    'income_50k',\n",
    "]"
   ]
  },
  {
   "cell_type": "code",
   "execution_count": 3,
   "metadata": {},
   "outputs": [
    {
     "data": {
      "text/html": [
       "<div>\n",
       "<style scoped>\n",
       "    .dataframe tbody tr th:only-of-type {\n",
       "        vertical-align: middle;\n",
       "    }\n",
       "\n",
       "    .dataframe tbody tr th {\n",
       "        vertical-align: top;\n",
       "    }\n",
       "\n",
       "    .dataframe thead th {\n",
       "        text-align: right;\n",
       "    }\n",
       "</style>\n",
       "<table border=\"1\" class=\"dataframe\">\n",
       "  <thead>\n",
       "    <tr style=\"text-align: right;\">\n",
       "      <th></th>\n",
       "      <th>age</th>\n",
       "      <th>class_worker</th>\n",
       "      <th>det_ind_code</th>\n",
       "      <th>det_occ_code</th>\n",
       "      <th>education</th>\n",
       "      <th>wage_per_hour</th>\n",
       "      <th>hs_college</th>\n",
       "      <th>marital_stat</th>\n",
       "      <th>major_ind_code</th>\n",
       "      <th>major_occ_code</th>\n",
       "      <th>...</th>\n",
       "      <th>country_father</th>\n",
       "      <th>country_mother</th>\n",
       "      <th>country_self</th>\n",
       "      <th>citizenship</th>\n",
       "      <th>own_or_self</th>\n",
       "      <th>vet_question</th>\n",
       "      <th>vet_benefits</th>\n",
       "      <th>weeks_worked</th>\n",
       "      <th>year</th>\n",
       "      <th>income_50k</th>\n",
       "    </tr>\n",
       "  </thead>\n",
       "  <tbody>\n",
       "    <tr>\n",
       "      <th>0</th>\n",
       "      <td>73</td>\n",
       "      <td>Not in universe</td>\n",
       "      <td>0</td>\n",
       "      <td>0</td>\n",
       "      <td>High school graduate</td>\n",
       "      <td>0</td>\n",
       "      <td>Not in universe</td>\n",
       "      <td>Widowed</td>\n",
       "      <td>Not in universe or children</td>\n",
       "      <td>Not in universe</td>\n",
       "      <td>...</td>\n",
       "      <td>United-States</td>\n",
       "      <td>United-States</td>\n",
       "      <td>United-States</td>\n",
       "      <td>Native- Born in the United States</td>\n",
       "      <td>0</td>\n",
       "      <td>Not in universe</td>\n",
       "      <td>2</td>\n",
       "      <td>0</td>\n",
       "      <td>95</td>\n",
       "      <td>- 50000.</td>\n",
       "    </tr>\n",
       "    <tr>\n",
       "      <th>1</th>\n",
       "      <td>58</td>\n",
       "      <td>Self-employed-not incorporated</td>\n",
       "      <td>4</td>\n",
       "      <td>34</td>\n",
       "      <td>Some college but no degree</td>\n",
       "      <td>0</td>\n",
       "      <td>Not in universe</td>\n",
       "      <td>Divorced</td>\n",
       "      <td>Construction</td>\n",
       "      <td>Precision production craft &amp; repair</td>\n",
       "      <td>...</td>\n",
       "      <td>United-States</td>\n",
       "      <td>United-States</td>\n",
       "      <td>United-States</td>\n",
       "      <td>Native- Born in the United States</td>\n",
       "      <td>0</td>\n",
       "      <td>Not in universe</td>\n",
       "      <td>2</td>\n",
       "      <td>52</td>\n",
       "      <td>94</td>\n",
       "      <td>- 50000.</td>\n",
       "    </tr>\n",
       "    <tr>\n",
       "      <th>2</th>\n",
       "      <td>18</td>\n",
       "      <td>Not in universe</td>\n",
       "      <td>0</td>\n",
       "      <td>0</td>\n",
       "      <td>10th grade</td>\n",
       "      <td>0</td>\n",
       "      <td>High school</td>\n",
       "      <td>Never married</td>\n",
       "      <td>Not in universe or children</td>\n",
       "      <td>Not in universe</td>\n",
       "      <td>...</td>\n",
       "      <td>Vietnam</td>\n",
       "      <td>Vietnam</td>\n",
       "      <td>Vietnam</td>\n",
       "      <td>Foreign born- Not a citizen of U S</td>\n",
       "      <td>0</td>\n",
       "      <td>Not in universe</td>\n",
       "      <td>2</td>\n",
       "      <td>0</td>\n",
       "      <td>95</td>\n",
       "      <td>- 50000.</td>\n",
       "    </tr>\n",
       "    <tr>\n",
       "      <th>3</th>\n",
       "      <td>9</td>\n",
       "      <td>Not in universe</td>\n",
       "      <td>0</td>\n",
       "      <td>0</td>\n",
       "      <td>Children</td>\n",
       "      <td>0</td>\n",
       "      <td>Not in universe</td>\n",
       "      <td>Never married</td>\n",
       "      <td>Not in universe or children</td>\n",
       "      <td>Not in universe</td>\n",
       "      <td>...</td>\n",
       "      <td>United-States</td>\n",
       "      <td>United-States</td>\n",
       "      <td>United-States</td>\n",
       "      <td>Native- Born in the United States</td>\n",
       "      <td>0</td>\n",
       "      <td>Not in universe</td>\n",
       "      <td>0</td>\n",
       "      <td>0</td>\n",
       "      <td>94</td>\n",
       "      <td>- 50000.</td>\n",
       "    </tr>\n",
       "    <tr>\n",
       "      <th>4</th>\n",
       "      <td>10</td>\n",
       "      <td>Not in universe</td>\n",
       "      <td>0</td>\n",
       "      <td>0</td>\n",
       "      <td>Children</td>\n",
       "      <td>0</td>\n",
       "      <td>Not in universe</td>\n",
       "      <td>Never married</td>\n",
       "      <td>Not in universe or children</td>\n",
       "      <td>Not in universe</td>\n",
       "      <td>...</td>\n",
       "      <td>United-States</td>\n",
       "      <td>United-States</td>\n",
       "      <td>United-States</td>\n",
       "      <td>Native- Born in the United States</td>\n",
       "      <td>0</td>\n",
       "      <td>Not in universe</td>\n",
       "      <td>0</td>\n",
       "      <td>0</td>\n",
       "      <td>94</td>\n",
       "      <td>- 50000.</td>\n",
       "    </tr>\n",
       "    <tr>\n",
       "      <th>...</th>\n",
       "      <td>...</td>\n",
       "      <td>...</td>\n",
       "      <td>...</td>\n",
       "      <td>...</td>\n",
       "      <td>...</td>\n",
       "      <td>...</td>\n",
       "      <td>...</td>\n",
       "      <td>...</td>\n",
       "      <td>...</td>\n",
       "      <td>...</td>\n",
       "      <td>...</td>\n",
       "      <td>...</td>\n",
       "      <td>...</td>\n",
       "      <td>...</td>\n",
       "      <td>...</td>\n",
       "      <td>...</td>\n",
       "      <td>...</td>\n",
       "      <td>...</td>\n",
       "      <td>...</td>\n",
       "      <td>...</td>\n",
       "      <td>...</td>\n",
       "    </tr>\n",
       "    <tr>\n",
       "      <th>99757</th>\n",
       "      <td>14</td>\n",
       "      <td>Not in universe</td>\n",
       "      <td>0</td>\n",
       "      <td>0</td>\n",
       "      <td>Children</td>\n",
       "      <td>0</td>\n",
       "      <td>Not in universe</td>\n",
       "      <td>Never married</td>\n",
       "      <td>Not in universe or children</td>\n",
       "      <td>Not in universe</td>\n",
       "      <td>...</td>\n",
       "      <td>United-States</td>\n",
       "      <td>United-States</td>\n",
       "      <td>United-States</td>\n",
       "      <td>Native- Born in the United States</td>\n",
       "      <td>0</td>\n",
       "      <td>Not in universe</td>\n",
       "      <td>0</td>\n",
       "      <td>0</td>\n",
       "      <td>95</td>\n",
       "      <td>- 50000.</td>\n",
       "    </tr>\n",
       "    <tr>\n",
       "      <th>99758</th>\n",
       "      <td>61</td>\n",
       "      <td>Private</td>\n",
       "      <td>8</td>\n",
       "      <td>36</td>\n",
       "      <td>11th grade</td>\n",
       "      <td>0</td>\n",
       "      <td>Not in universe</td>\n",
       "      <td>Separated</td>\n",
       "      <td>Manufacturing-durable goods</td>\n",
       "      <td>Machine operators assmblrs &amp; inspctrs</td>\n",
       "      <td>...</td>\n",
       "      <td>United-States</td>\n",
       "      <td>United-States</td>\n",
       "      <td>United-States</td>\n",
       "      <td>Native- Born in the United States</td>\n",
       "      <td>0</td>\n",
       "      <td>Not in universe</td>\n",
       "      <td>2</td>\n",
       "      <td>52</td>\n",
       "      <td>95</td>\n",
       "      <td>- 50000.</td>\n",
       "    </tr>\n",
       "    <tr>\n",
       "      <th>99759</th>\n",
       "      <td>24</td>\n",
       "      <td>Self-employed-not incorporated</td>\n",
       "      <td>1</td>\n",
       "      <td>43</td>\n",
       "      <td>7th and 8th grade</td>\n",
       "      <td>0</td>\n",
       "      <td>Not in universe</td>\n",
       "      <td>Married-civilian spouse present</td>\n",
       "      <td>Agriculture</td>\n",
       "      <td>Farming forestry and fishing</td>\n",
       "      <td>...</td>\n",
       "      <td>Mexico</td>\n",
       "      <td>Mexico</td>\n",
       "      <td>Mexico</td>\n",
       "      <td>Foreign born- U S citizen by naturalization</td>\n",
       "      <td>0</td>\n",
       "      <td>Not in universe</td>\n",
       "      <td>2</td>\n",
       "      <td>52</td>\n",
       "      <td>94</td>\n",
       "      <td>- 50000.</td>\n",
       "    </tr>\n",
       "    <tr>\n",
       "      <th>99760</th>\n",
       "      <td>30</td>\n",
       "      <td>Private</td>\n",
       "      <td>45</td>\n",
       "      <td>2</td>\n",
       "      <td>Bachelors degree(BA AB BS)</td>\n",
       "      <td>0</td>\n",
       "      <td>Not in universe</td>\n",
       "      <td>Married-civilian spouse present</td>\n",
       "      <td>Other professional services</td>\n",
       "      <td>Executive admin and managerial</td>\n",
       "      <td>...</td>\n",
       "      <td>United-States</td>\n",
       "      <td>United-States</td>\n",
       "      <td>United-States</td>\n",
       "      <td>Native- Born in the United States</td>\n",
       "      <td>0</td>\n",
       "      <td>Not in universe</td>\n",
       "      <td>2</td>\n",
       "      <td>52</td>\n",
       "      <td>95</td>\n",
       "      <td>- 50000.</td>\n",
       "    </tr>\n",
       "    <tr>\n",
       "      <th>99761</th>\n",
       "      <td>67</td>\n",
       "      <td>Not in universe</td>\n",
       "      <td>0</td>\n",
       "      <td>0</td>\n",
       "      <td>9th grade</td>\n",
       "      <td>0</td>\n",
       "      <td>Not in universe</td>\n",
       "      <td>Married-civilian spouse present</td>\n",
       "      <td>Not in universe or children</td>\n",
       "      <td>Not in universe</td>\n",
       "      <td>...</td>\n",
       "      <td>United-States</td>\n",
       "      <td>United-States</td>\n",
       "      <td>United-States</td>\n",
       "      <td>Native- Born in the United States</td>\n",
       "      <td>0</td>\n",
       "      <td>Not in universe</td>\n",
       "      <td>2</td>\n",
       "      <td>0</td>\n",
       "      <td>94</td>\n",
       "      <td>- 50000.</td>\n",
       "    </tr>\n",
       "  </tbody>\n",
       "</table>\n",
       "<p>299285 rows × 41 columns</p>\n",
       "</div>"
      ],
      "text/plain": [
       "       age                     class_worker  det_ind_code  det_occ_code  \\\n",
       "0       73                  Not in universe             0             0   \n",
       "1       58   Self-employed-not incorporated             4            34   \n",
       "2       18                  Not in universe             0             0   \n",
       "3        9                  Not in universe             0             0   \n",
       "4       10                  Not in universe             0             0   \n",
       "...    ...                              ...           ...           ...   \n",
       "99757   14                  Not in universe             0             0   \n",
       "99758   61                          Private             8            36   \n",
       "99759   24   Self-employed-not incorporated             1            43   \n",
       "99760   30                          Private            45             2   \n",
       "99761   67                  Not in universe             0             0   \n",
       "\n",
       "                         education  wage_per_hour        hs_college  \\\n",
       "0             High school graduate              0   Not in universe   \n",
       "1       Some college but no degree              0   Not in universe   \n",
       "2                       10th grade              0       High school   \n",
       "3                         Children              0   Not in universe   \n",
       "4                         Children              0   Not in universe   \n",
       "...                            ...            ...               ...   \n",
       "99757                     Children              0   Not in universe   \n",
       "99758                   11th grade              0   Not in universe   \n",
       "99759            7th and 8th grade              0   Not in universe   \n",
       "99760   Bachelors degree(BA AB BS)              0   Not in universe   \n",
       "99761                    9th grade              0   Not in universe   \n",
       "\n",
       "                           marital_stat                major_ind_code  \\\n",
       "0                               Widowed   Not in universe or children   \n",
       "1                              Divorced                  Construction   \n",
       "2                         Never married   Not in universe or children   \n",
       "3                         Never married   Not in universe or children   \n",
       "4                         Never married   Not in universe or children   \n",
       "...                                 ...                           ...   \n",
       "99757                     Never married   Not in universe or children   \n",
       "99758                         Separated   Manufacturing-durable goods   \n",
       "99759   Married-civilian spouse present                   Agriculture   \n",
       "99760   Married-civilian spouse present   Other professional services   \n",
       "99761   Married-civilian spouse present   Not in universe or children   \n",
       "\n",
       "                               major_occ_code  ...  country_father  \\\n",
       "0                             Not in universe  ...   United-States   \n",
       "1         Precision production craft & repair  ...   United-States   \n",
       "2                             Not in universe  ...         Vietnam   \n",
       "3                             Not in universe  ...   United-States   \n",
       "4                             Not in universe  ...   United-States   \n",
       "...                                       ...  ...             ...   \n",
       "99757                         Not in universe  ...   United-States   \n",
       "99758   Machine operators assmblrs & inspctrs  ...   United-States   \n",
       "99759            Farming forestry and fishing  ...          Mexico   \n",
       "99760          Executive admin and managerial  ...   United-States   \n",
       "99761                         Not in universe  ...   United-States   \n",
       "\n",
       "       country_mother    country_self  \\\n",
       "0       United-States   United-States   \n",
       "1       United-States   United-States   \n",
       "2             Vietnam         Vietnam   \n",
       "3       United-States   United-States   \n",
       "4       United-States   United-States   \n",
       "...               ...             ...   \n",
       "99757   United-States   United-States   \n",
       "99758   United-States   United-States   \n",
       "99759          Mexico          Mexico   \n",
       "99760   United-States   United-States   \n",
       "99761   United-States   United-States   \n",
       "\n",
       "                                        citizenship own_or_self  \\\n",
       "0                 Native- Born in the United States           0   \n",
       "1                 Native- Born in the United States           0   \n",
       "2               Foreign born- Not a citizen of U S            0   \n",
       "3                 Native- Born in the United States           0   \n",
       "4                 Native- Born in the United States           0   \n",
       "...                                             ...         ...   \n",
       "99757             Native- Born in the United States           0   \n",
       "99758             Native- Born in the United States           0   \n",
       "99759   Foreign born- U S citizen by naturalization           0   \n",
       "99760             Native- Born in the United States           0   \n",
       "99761             Native- Born in the United States           0   \n",
       "\n",
       "           vet_question  vet_benefits  weeks_worked  year income_50k  \n",
       "0       Not in universe             2             0    95   - 50000.  \n",
       "1       Not in universe             2            52    94   - 50000.  \n",
       "2       Not in universe             2             0    95   - 50000.  \n",
       "3       Not in universe             0             0    94   - 50000.  \n",
       "4       Not in universe             0             0    94   - 50000.  \n",
       "...                 ...           ...           ...   ...        ...  \n",
       "99757   Not in universe             0             0    95   - 50000.  \n",
       "99758   Not in universe             2            52    95   - 50000.  \n",
       "99759   Not in universe             2            52    94   - 50000.  \n",
       "99760   Not in universe             2            52    95   - 50000.  \n",
       "99761   Not in universe             2             0    94   - 50000.  \n",
       "\n",
       "[299285 rows x 41 columns]"
      ]
     },
     "execution_count": 3,
     "metadata": {},
     "output_type": "execute_result"
    }
   ],
   "source": [
    "# Load data\n",
    "data_dir = os.path.join(pathlib.Path(os.getcwd()).parent, 'data')\n",
    "df = pd.read_csv(os.path.join(data_dir, 'census-income.data.csv'), header=None, names=header_names)\n",
    "df_test = pd.read_csv(os.path.join(data_dir, 'census-income.test.csv'), header=None, names=header_names)\n",
    "df = pd.concat([df,df_test]) ## the test file is also labelled so they can be merged\n",
    "df.drop(columns=['instance_weight']) ## not used for our analysis"
   ]
  },
  {
   "cell_type": "markdown",
   "metadata": {},
   "source": [
    "## Data Preparation Part 1"
   ]
  },
  {
   "cell_type": "markdown",
   "metadata": {},
   "source": [
    "The first classification task performed will be on an income based feature called `income_50k`. The feature indicates whether the person earns more than $50,000 annually, represented with \"+50000\" or below, represented as \"-50,000\". The second classification task will be on a variable which will be generated from the dataset. This variable pertains the the level of education a person has attained. The feature has been created such that, if a person has earned a 4-year/bachelor degree or higher they will have considered to have graduated. The name of this feature is `graduated` and it is a boolean value, with yes indicating if a person has earned a higher education degree, or not. It was created from the categorical feature from the dataset called `education`. Further in the report, this variable will be created, and the education feature will be dropped. "
   ]
  },
  {
   "cell_type": "code",
   "execution_count": 4,
   "metadata": {},
   "outputs": [],
   "source": [
    "# Categorical features in the data, variable will be used for one-hot encoding\n",
    "categorical_features = [\n",
    "    'class_worker',\n",
    "    'det_ind_code',\n",
    "    'det_occ_code',\n",
    "    'education',\n",
    "    'hs_college',\n",
    "    'marital_stat',\n",
    "    'major_ind_code',\n",
    "    'major_occ_code',\n",
    "    'race',\n",
    "    'hisp_origin',\n",
    "    'sex',\n",
    "    'union_member',\n",
    "    'unemp_reason',\n",
    "    'full_or_part_emp',\n",
    "    'tax_filer_stat',\n",
    "    'region_prev_res',\n",
    "    'state_prev_res',\n",
    "    'det_hh_fam_stat',\n",
    "    'det_hh_summ',\n",
    "    'mig_chg_msa',\n",
    "    'mig_chg_reg',\n",
    "    'mig_move_reg',\n",
    "    'mig_same',\n",
    "    'mig_prev_sunbelt',\n",
    "    'fam_under_18',\n",
    "    'country_father',\n",
    "    'country_mother',\n",
    "    'country_self',\n",
    "    'citizenship',\n",
    "    'own_or_self',\n",
    "    'vet_question',\n",
    "    'vet_benefits',\n",
    "    'year',\n",
    "]\n",
    "df[categorical_features] = df[categorical_features].astype('category')"
   ]
  },
  {
   "cell_type": "markdown",
   "metadata": {},
   "source": [
    "This dataset is mostly comprised of categorical features. The above variable will be used to hold the name of these features, and will later be used to one-hot encode all that are represented, with exception to those that are to be dropped before analysis."
   ]
  },
  {
   "cell_type": "code",
   "execution_count": 5,
   "metadata": {},
   "outputs": [],
   "source": [
    "### Drop columns not used in modelling\n",
    "df = df.drop(\n",
    "    columns=[\n",
    "        'region_prev_res',\n",
    "        'state_prev_res',\n",
    "        'det_hh_fam_stat',\n",
    "        'det_hh_summ',\n",
    "        'mig_chg_msa',\n",
    "        'mig_chg_reg',\n",
    "        'mig_move_reg',\n",
    "        'mig_same',\n",
    "        'mig_prev_sunbelt',\n",
    "        'country_father',\n",
    "        'country_mother',\n",
    "        'country_self',\n",
    "        'year',\n",
    "    ]\n",
    ")"
   ]
  },
  {
   "cell_type": "markdown",
   "metadata": {},
   "source": [
    "The above features were not included in the dataset. Many of these features were dropped because it was decided that there were too many values each could assume. For instance, as shown above, the `state_prev_res` variable could be 1 of the 50 states. Additionally, if this didn't pertain to the person represented in this row, it would be an NA value, and many rows took this form. "
   ]
  },
  {
   "cell_type": "code",
   "execution_count": 6,
   "metadata": {},
   "outputs": [],
   "source": [
    "def preprocess_pipeline(numeric_features, categorical_features):\n",
    "    ### Scale numerical, one hot categorical\n",
    "\n",
    "    numeric_transformer = Pipeline(\n",
    "        steps=[\n",
    "            #('imputer', SimpleImputer(strategy='median')),\n",
    "            ('scaler', StandardScaler()),\n",
    "        ]\n",
    "    )\n",
    "    categorical_transformer = Pipeline(\n",
    "        steps=[\n",
    "            #('imputer', SimpleImputer(strategy='constant', fill_value='missing')),\n",
    "            ('onehot', OneHotEncoder(handle_unknown='ignore')),\n",
    "        ]\n",
    "    )\n",
    "    preprocessor = ColumnTransformer(\n",
    "        transformers=[\n",
    "            ('num', numeric_transformer, numeric_features),\n",
    "            ('cat', categorical_transformer, categorical_features)]\n",
    "    )\n",
    "    preprocess_pipe = Pipeline(\n",
    "        steps=[\n",
    "            ('preprocessor', preprocessor),\n",
    "        ]\n",
    "    )\n",
    "    \n",
    "    return preprocess_pipe"
   ]
  },
  {
   "cell_type": "markdown",
   "metadata": {},
   "source": [
    "The function above will act as the preprocessing pipeline. The numeric features will be scaled using the standard scaling, and the categorical features will be one-hot encoded. This function will return a pipeline object with scaled numeric features, and one-hot encoded categorical features in a sparse matrix."
   ]
  },
  {
   "cell_type": "code",
   "execution_count": 7,
   "metadata": {},
   "outputs": [
    {
     "name": "stdout",
     "output_type": "stream",
     "text": [
      "<class 'pandas.core.frame.DataFrame'>\n",
      "Int64Index: 299285 entries, 0 to 99761\n",
      "Data columns (total 29 columns):\n",
      " #   Column            Non-Null Count   Dtype   \n",
      "---  ------            --------------   -----   \n",
      " 0   age               299285 non-null  int64   \n",
      " 1   class_worker      299285 non-null  category\n",
      " 2   det_ind_code      299285 non-null  category\n",
      " 3   det_occ_code      299285 non-null  category\n",
      " 4   education         299285 non-null  category\n",
      " 5   wage_per_hour     299285 non-null  int64   \n",
      " 6   hs_college        299285 non-null  category\n",
      " 7   marital_stat      299285 non-null  category\n",
      " 8   major_ind_code    299285 non-null  category\n",
      " 9   major_occ_code    299285 non-null  category\n",
      " 10  race              299285 non-null  category\n",
      " 11  hisp_origin       299285 non-null  category\n",
      " 12  sex               299285 non-null  category\n",
      " 13  union_member      299285 non-null  category\n",
      " 14  unemp_reason      299285 non-null  category\n",
      " 15  full_or_part_emp  299285 non-null  category\n",
      " 16  capital_gains     299285 non-null  int64   \n",
      " 17  capital_losses    299285 non-null  int64   \n",
      " 18  stock_dividends   299285 non-null  int64   \n",
      " 19  tax_filer_stat    299285 non-null  category\n",
      " 20  instance_weight   299285 non-null  float64 \n",
      " 21  num_emp           299285 non-null  int64   \n",
      " 22  fam_under_18      299285 non-null  category\n",
      " 23  citizenship       299285 non-null  category\n",
      " 24  own_or_self       299285 non-null  category\n",
      " 25  vet_question      299285 non-null  category\n",
      " 26  vet_benefits      299285 non-null  category\n",
      " 27  weeks_worked      299285 non-null  int64   \n",
      " 28  income_50k        299285 non-null  object  \n",
      "dtypes: category(20), float64(1), int64(7), object(1)\n",
      "memory usage: 28.6+ MB\n"
     ]
    }
   ],
   "source": [
    "# This is section one of the data processing, will be using the same data as shown in the minilab\n",
    "df.info()"
   ]
  },
  {
   "cell_type": "markdown",
   "metadata": {},
   "source": [
    "Above are the attributes that will be used in initial stages of modeling. These features will be processed with the pipeline, then will be further selected with recursive feature engineering later in the report."
   ]
  },
  {
   "cell_type": "code",
   "execution_count": 8,
   "metadata": {},
   "outputs": [],
   "source": [
    "# Sampling the dataset\n",
    "selection_df = df.sample(frac = .001)"
   ]
  },
  {
   "cell_type": "code",
   "execution_count": 9,
   "metadata": {},
   "outputs": [
    {
     "data": {
      "text/plain": [
       "(299, 29)"
      ]
     },
     "execution_count": 9,
     "metadata": {},
     "output_type": "execute_result"
    }
   ],
   "source": [
    "selection_df.shape"
   ]
  },
  {
   "cell_type": "code",
   "execution_count": 10,
   "metadata": {},
   "outputs": [],
   "source": [
    "numeric_features = selection_df.select_dtypes(include=['int64', 'float64']).columns\n",
    "categorical_features_income = selection_df.select_dtypes(include=['object','bool', 'category']).drop(['income_50k'], axis=1).columns\n",
    "X_selection_income = selection_df.drop('income_50k', axis=1)\n",
    "y_selection_income = pd.DataFrame(selection_df['income_50k'])\n",
    "preprocessor_income = preprocess_pipeline(numeric_features, categorical_features_income)\n",
    "X_selection_preprocessed_income = preprocessor_income.fit_transform(X_selection_income)"
   ]
  },
  {
   "cell_type": "markdown",
   "metadata": {},
   "source": [
    "The above code chunk will process the data for the first classification task on the income attribute."
   ]
  },
  {
   "cell_type": "code",
   "execution_count": 11,
   "metadata": {},
   "outputs": [],
   "source": [
    "higer_degrees = [\n",
    "    ' Bachelors degree(BA AB BS)', \n",
    "    ' Masters degree(MA MS MEng MEd MSW MBA)', \n",
    "    ' Prof school degree (MD DDS DVM LLB JD)',\n",
    "    ' Doctorate degree(PhD EdD)',\n",
    "]\n",
    "selection_df['graduated'] = 'no'\n",
    "selection_df.loc[selection_df['education'].isin(higer_degrees), 'graduated'] = 'yes'\n",
    "selection_df = selection_df.drop(['education'], axis=1)"
   ]
  },
  {
   "cell_type": "code",
   "execution_count": 12,
   "metadata": {},
   "outputs": [
    {
     "name": "stdout",
     "output_type": "stream",
     "text": [
      "<class 'pandas.core.frame.DataFrame'>\n",
      "Int64Index: 299 entries, 67087 to 96041\n",
      "Data columns (total 29 columns):\n",
      " #   Column            Non-Null Count  Dtype   \n",
      "---  ------            --------------  -----   \n",
      " 0   age               299 non-null    int64   \n",
      " 1   class_worker      299 non-null    category\n",
      " 2   det_ind_code      299 non-null    category\n",
      " 3   det_occ_code      299 non-null    category\n",
      " 4   wage_per_hour     299 non-null    int64   \n",
      " 5   hs_college        299 non-null    category\n",
      " 6   marital_stat      299 non-null    category\n",
      " 7   major_ind_code    299 non-null    category\n",
      " 8   major_occ_code    299 non-null    category\n",
      " 9   race              299 non-null    category\n",
      " 10  hisp_origin       299 non-null    category\n",
      " 11  sex               299 non-null    category\n",
      " 12  union_member      299 non-null    category\n",
      " 13  unemp_reason      299 non-null    category\n",
      " 14  full_or_part_emp  299 non-null    category\n",
      " 15  capital_gains     299 non-null    int64   \n",
      " 16  capital_losses    299 non-null    int64   \n",
      " 17  stock_dividends   299 non-null    int64   \n",
      " 18  tax_filer_stat    299 non-null    category\n",
      " 19  instance_weight   299 non-null    float64 \n",
      " 20  num_emp           299 non-null    int64   \n",
      " 21  fam_under_18      299 non-null    category\n",
      " 22  citizenship       299 non-null    category\n",
      " 23  own_or_self       299 non-null    category\n",
      " 24  vet_question      299 non-null    category\n",
      " 25  vet_benefits      299 non-null    category\n",
      " 26  weeks_worked      299 non-null    int64   \n",
      " 27  income_50k        299 non-null    object  \n",
      " 28  graduated         299 non-null    object  \n",
      "dtypes: category(19), float64(1), int64(7), object(2)\n",
      "memory usage: 40.4+ KB\n"
     ]
    }
   ],
   "source": [
    "selection_df.info()"
   ]
  },
  {
   "cell_type": "markdown",
   "metadata": {},
   "source": [
    "This chunk prepares the new feature used in for the second classification problem. The education and hs_college features were subsequently be dropped, as leaving these features in the dataset will create falsely high classification accuracies during modeling."
   ]
  },
  {
   "cell_type": "code",
   "execution_count": 13,
   "metadata": {},
   "outputs": [],
   "source": [
    "categorical_features_grad = selection_df.select_dtypes(include=['object','bool', 'category']).drop(['graduated'], axis=1).columns\n",
    "X_selection_grad = selection_df.drop(columns=['graduated'])\n",
    "y_selection_grad = pd.DataFrame(selection_df['graduated'])\n",
    "preprocessor_grad = preprocess_pipeline(numeric_features, categorical_features_grad)\n",
    "X_selection_preprocessed_grad = preprocessor_grad.fit_transform(X_selection_grad)"
   ]
  },
  {
   "cell_type": "markdown",
   "metadata": {},
   "source": [
    "As above, this chunk will process the dataset for the second classification task of `graduated`. "
   ]
  },
  {
   "cell_type": "code",
   "execution_count": 14,
   "metadata": {},
   "outputs": [],
   "source": [
    "tmp_df = pd.get_dummies(y_selection_income['income_50k'])\n",
    "\n",
    "y_selection_income = pd.concat((y_selection_income,tmp_df),axis=1)\n",
    "\n",
    "y_selection_income[\"above_50k\"] = y_selection_income[\" 50000+.\"]\n",
    "\n",
    "y_selection_income=y_selection_income.drop(['income_50k', \" - 50000.\", \" 50000+.\"], axis=1)"
   ]
  },
  {
   "cell_type": "code",
   "execution_count": 15,
   "metadata": {},
   "outputs": [],
   "source": [
    "tmp_df = pd.get_dummies(y_selection_grad['graduated'])\n",
    "\n",
    "y_selection_grad = pd.concat((y_selection_grad,tmp_df),axis=1)\n",
    "\n",
    "y_selection_grad[\"graduated\"] = y_selection_grad[\"yes\"]\n",
    "\n",
    "y_selection_grad=y_selection_grad.drop(['yes', \"no\"], axis=1)"
   ]
  },
  {
   "cell_type": "code",
   "execution_count": 16,
   "metadata": {},
   "outputs": [],
   "source": [
    "### Make a list of all the columns after one hot encoding\n",
    "ohe_income = preprocessor_income['preprocessor'].named_transformers_['cat']['onehot']\n",
    "cat_processed_income = ohe_income.get_feature_names(X_selection_income[categorical_features_income].columns)\n",
    "all_processed_cols_income = np.concatenate((numeric_features, cat_processed_income), axis=0)"
   ]
  },
  {
   "cell_type": "code",
   "execution_count": 17,
   "metadata": {},
   "outputs": [],
   "source": [
    "ohe_grad = preprocessor_grad['preprocessor'].named_transformers_['cat']['onehot']\n",
    "cat_processed_grad = ohe_grad.get_feature_names(X_selection_grad[categorical_features_grad].columns)\n",
    "all_processed_cols_grad = np.concatenate((numeric_features, cat_processed_grad), axis=0)"
   ]
  },
  {
   "cell_type": "code",
   "execution_count": 18,
   "metadata": {},
   "outputs": [
    {
     "name": "stdout",
     "output_type": "stream",
     "text": [
      "Optimal number of features for Income: 13\n",
      "Max Score : 0.27\n"
     ]
    },
    {
     "data": {
      "image/png": "[encoded data removed]",
      "text/plain": [
       "<Figure size 432x288 with 1 Axes>"
      ]
     },
     "metadata": {
      "needs_background": "light"
     },
     "output_type": "display_data"
    }
   ],
   "source": [
    "from sklearn.metrics import recall_score\n",
    "\n",
    "### RFE CV to find best features \n",
    "clf = LogisticRegression(n_jobs=-1)\n",
    "rfecv_income = RFECV(clf, step=1, cv=5, scoring = 'recall')\n",
    "rfecv_income.fit(X_selection_preprocessed_income, y_selection_income)\n",
    "print(\"Optimal number of features for Income: %d\" % rfecv_income.n_features_)\n",
    "print(\"Max Score :\", max(rfecv_income.grid_scores_) )\n",
    "\n",
    "# Plot number of features VS. cross-validation scores\n",
    "plt.figure()\n",
    "plt.xlabel(\"Number of features selected\")\n",
    "plt.ylabel(\"Cross validation score (% of correct classifications)\")\n",
    "plt.plot(range(1, len(rfecv_income.grid_scores_) + 1), rfecv_income.grid_scores_)\n",
    "plt.show()"
   ]
  },
  {
   "cell_type": "markdown",
   "metadata": {},
   "source": [
    "Recursive feature engineering was done with a logistic regression classifier to identify the which features will be useful for the modeling process and to identify which number will be needed to attain this highest accuracy with logistic regression. Above are the results for the first classification task."
   ]
  },
  {
   "cell_type": "code",
   "execution_count": 19,
   "metadata": {},
   "outputs": [
    {
     "name": "stdout",
     "output_type": "stream",
     "text": [
      "Optimal number of features for Graduated: 20\n",
      "Max Score : 0.4984848484848484\n"
     ]
    },
    {
     "data": {
      "image/png": "[encoded data removed]",
      "text/plain": [
       "<Figure size 432x288 with 1 Axes>"
      ]
     },
     "metadata": {
      "needs_background": "light"
     },
     "output_type": "display_data"
    }
   ],
   "source": [
    "import warnings\n",
    "warnings.filterwarnings('ignore')\n",
    "\n",
    "### RFE CV to find best features \n",
    "clf = LogisticRegression(n_jobs=-1)\n",
    "rfecv_grad = RFECV(clf, step=1, cv=5, scoring = 'recall')\n",
    "rfecv_grad.fit(X_selection_preprocessed_grad, y_selection_grad)\n",
    "print(\"Optimal number of features for Graduated: %d\" % rfecv_grad.n_features_)\n",
    "print(\"Max Score :\", max(rfecv_grad.grid_scores_) )\n",
    "\n",
    "# Plot number of features VS. cross-validation scores\n",
    "plt.figure()\n",
    "plt.xlabel(\"Number of features selected\")\n",
    "plt.ylabel(\"Cross validation score (% of correct classifications)\")\n",
    "plt.plot(range(1, len(rfecv_grad.grid_scores_) + 1), rfecv_grad.grid_scores_)\n",
    "plt.show()"
   ]
  },
  {
   "cell_type": "markdown",
   "metadata": {},
   "source": [
    "This is the feature selection task for the second classification problem for this report."
   ]
  },
  {
   "cell_type": "code",
   "execution_count": 20,
   "metadata": {},
   "outputs": [
    {
     "name": "stdout",
     "output_type": "stream",
     "text": [
      "['weeks_worked' 'det_ind_code_12' 'det_ind_code_19' 'det_occ_code_2'\n",
      " 'det_occ_code_17' 'education_ Masters degree(MA MS MEng MEd MSW MBA)'\n",
      " 'marital_stat_ Divorced' 'major_ind_code_ Manufacturing-durable goods'\n",
      " 'major_ind_code_ Public administration' 'major_occ_code_ Sales'\n",
      " 'hisp_origin_ All other' 'sex_ Male' 'unemp_reason_ Not in universe']\n"
     ]
    }
   ],
   "source": [
    "### Show all selected features\n",
    "selected_features_income = all_processed_cols_income[rfecv_income.support_]\n",
    "print(selected_features_income)"
   ]
  },
  {
   "cell_type": "code",
   "execution_count": 21,
   "metadata": {},
   "outputs": [
    {
     "name": "stdout",
     "output_type": "stream",
     "text": [
      "['class_worker_ Federal government' 'det_ind_code_12' 'det_ind_code_48'\n",
      " 'det_ind_code_50' 'det_occ_code_10' 'det_occ_code_17' 'det_occ_code_18'\n",
      " 'det_occ_code_38' 'major_ind_code_ Hospital services'\n",
      " 'major_ind_code_ Retail trade' 'major_occ_code_ Other service'\n",
      " 'major_occ_code_ Precision production craft & repair'\n",
      " 'major_occ_code_ Professional specialty'\n",
      " 'major_occ_code_ Technicians and related support'\n",
      " 'hisp_origin_ All other' 'unemp_reason_ Job leaver'\n",
      " 'fam_under_18_ Not in universe' 'own_or_self_1' 'vet_benefits_0'\n",
      " 'income_50k_ - 50000.']\n"
     ]
    }
   ],
   "source": [
    "selected_features_grad = all_processed_cols_grad[rfecv_grad.support_]\n",
    "print(selected_features_grad)"
   ]
  },
  {
   "cell_type": "code",
   "execution_count": 22,
   "metadata": {},
   "outputs": [],
   "source": [
    "### log \n",
    "X_selection_log_income = X_selection_income.copy()\n",
    "X_selection_log_income['wage_per_hour'] = np.log10(X_selection_log_income['wage_per_hour'] + 1)\n",
    "X_selection_log_income['capital_gains'] = np.log10(X_selection_log_income['capital_gains'] + 1)\n",
    "X_selection_log_income['capital_losses'] = np.log10(X_selection_log_income['capital_losses'] + 1)\n",
    "X_selection_log_income['stock_dividends'] = np.log10(X_selection_log_income['stock_dividends'] + 1)\n",
    "X_selection_log_preprocessed_income = preprocessor_income.fit_transform(X_selection_log_income)\n",
    "\n",
    "X_selection_log_grad = X_selection_grad.copy()\n",
    "X_selection_log_grad['wage_per_hour'] = np.log10(X_selection_log_grad['wage_per_hour'] + 1)\n",
    "X_selection_log_grad['capital_gains'] = np.log10(X_selection_log_grad['capital_gains'] + 1)\n",
    "X_selection_log_grad['capital_losses'] = np.log10(X_selection_log_grad['capital_losses'] + 1)\n",
    "X_selection_log_grad['stock_dividends'] = np.log10(X_selection_log_grad['stock_dividends'] + 1)\n",
    "X_selection_log_preprocessed_grad = preprocessor_grad.fit_transform(X_selection_log_grad)\n"
   ]
  },
  {
   "cell_type": "markdown",
   "metadata": {},
   "source": [
    "Above the numeric features of the dataset are log transformed in an attempt to improve the accuracy of the RFE and to compare with the results already obtained."
   ]
  },
  {
   "cell_type": "code",
   "execution_count": 23,
   "metadata": {},
   "outputs": [
    {
     "name": "stdout",
     "output_type": "stream",
     "text": [
      "Optimal number of features for Income: 38\n",
      "Max Score : 0.36\n"
     ]
    },
    {
     "data": {
      "image/png": "[encoded data removed]",
      "text/plain": [
       "<Figure size 432x288 with 1 Axes>"
      ]
     },
     "metadata": {
      "needs_background": "light"
     },
     "output_type": "display_data"
    }
   ],
   "source": [
    "clf = LogisticRegression(n_jobs=-1)\n",
    "rfecv_log_income = RFECV(clf, step=1, cv=5, scoring = 'recall')\n",
    "rfecv_log_income.fit(X_selection_log_preprocessed_income, y_selection_income)\n",
    "print(\"Optimal number of features for Income: %d\" % rfecv_log_income.n_features_)\n",
    "print(\"Max Score :\", max(rfecv_log_income.grid_scores_) )\n",
    "\n",
    "# Plot number of features VS. cross-validation scores\n",
    "plt.figure()\n",
    "plt.xlabel(\"Number of features selected\")\n",
    "plt.ylabel(\"Cross validation score (% of correct classifications)\")\n",
    "plt.plot(range(1, len(rfecv_log_income.grid_scores_) + 1), rfecv_log_income.grid_scores_)\n",
    "plt.show()"
   ]
  },
  {
   "cell_type": "code",
   "execution_count": 24,
   "metadata": {},
   "outputs": [
    {
     "name": "stdout",
     "output_type": "stream",
     "text": [
      "Optimal number of features for Graduated: 20\n",
      "Max Score : 0.4984848484848484\n"
     ]
    },
    {
     "data": {
      "image/png": "[encoded data removed]",
      "text/plain": [
       "<Figure size 432x288 with 1 Axes>"
      ]
     },
     "metadata": {
      "needs_background": "light"
     },
     "output_type": "display_data"
    }
   ],
   "source": [
    "clf = LogisticRegression(n_jobs=-1)\n",
    "rfecv_log_grad = RFECV(clf, step=1, cv=5, scoring = 'recall')\n",
    "rfecv_log_grad.fit(X_selection_log_preprocessed_grad, y_selection_grad)\n",
    "print(\"Optimal number of features for Graduated: %d\" % rfecv_log_grad.n_features_)\n",
    "print(\"Max Score :\", max(rfecv_log_grad.grid_scores_) )\n",
    "\n",
    "# Plot number of features VS. cross-validation scores\n",
    "plt.figure()\n",
    "plt.xlabel(\"Number of features selected\")\n",
    "plt.ylabel(\"Cross validation score (% of correct classifications)\")\n",
    "plt.plot(range(1, len(rfecv_log_grad.grid_scores_) + 1), rfecv_log_grad.grid_scores_)\n",
    "plt.show()"
   ]
  },
  {
   "cell_type": "markdown",
   "metadata": {},
   "source": [
    "Another round of RFE was performed on the dataset after log transformation of the numeric variables to see if the recall would improve. There was not a significant increase in recall this will not be done on the final dataset used for modeling."
   ]
  },
  {
   "cell_type": "markdown",
   "metadata": {},
   "source": [
    "## Data Preparation Part 2"
   ]
  },
  {
   "cell_type": "code",
   "execution_count": 25,
   "metadata": {},
   "outputs": [
    {
     "name": "stdout",
     "output_type": "stream",
     "text": [
      "['weeks_worked' 'det_ind_code_12' 'det_ind_code_19' 'det_occ_code_2'\n",
      " 'det_occ_code_17' 'education_ Masters degree(MA MS MEng MEd MSW MBA)'\n",
      " 'marital_stat_ Divorced' 'major_ind_code_ Manufacturing-durable goods'\n",
      " 'major_ind_code_ Public administration' 'major_occ_code_ Sales'\n",
      " 'hisp_origin_ All other' 'sex_ Male' 'unemp_reason_ Not in universe']\n"
     ]
    }
   ],
   "source": [
    "### Show all selected features\n",
    "#index columns of sparse matrix\n",
    "X_selected_income = X_selection_preprocessed_income.tocsr()[:,rfecv_income.support_] \n",
    "selected_features_income = all_processed_cols_income[rfecv_income.support_]\n",
    "\n",
    "print(selected_features_income)"
   ]
  },
  {
   "cell_type": "code",
   "execution_count": 26,
   "metadata": {},
   "outputs": [
    {
     "name": "stdout",
     "output_type": "stream",
     "text": [
      "['class_worker_ Federal government' 'det_ind_code_12' 'det_ind_code_48'\n",
      " 'det_ind_code_50' 'det_occ_code_10' 'det_occ_code_17' 'det_occ_code_18'\n",
      " 'det_occ_code_38' 'major_ind_code_ Hospital services'\n",
      " 'major_ind_code_ Retail trade' 'major_occ_code_ Other service'\n",
      " 'major_occ_code_ Precision production craft & repair'\n",
      " 'major_occ_code_ Professional specialty'\n",
      " 'major_occ_code_ Technicians and related support'\n",
      " 'hisp_origin_ All other' 'unemp_reason_ Job leaver'\n",
      " 'fam_under_18_ Not in universe' 'own_or_self_1' 'vet_benefits_0'\n",
      " 'income_50k_ - 50000.']\n"
     ]
    }
   ],
   "source": [
    "X_selected_grad = X_selection_preprocessed_grad.tocsr()[:,rfecv_grad.support_] \n",
    "selected_features_grad = all_processed_cols_grad[rfecv_grad.support_]\n",
    "\n",
    "print(selected_features_grad)"
   ]
  },
  {
   "cell_type": "markdown",
   "metadata": {},
   "source": [
    "Above are the lists of features that were selected from RFE for each classification task. The first list shows that features that will be used for the income classification task, and the second list shows that features for the graduated classification task."
   ]
  },
  {
   "cell_type": "markdown",
   "metadata": {},
   "source": [
    "The final processed dataset is a sparse array representing the variables as numeric after scaling the numeric features and one-hot encoding the categorical attributes."
   ]
  },
  {
   "cell_type": "code",
   "execution_count": 27,
   "metadata": {},
   "outputs": [
    {
     "data": {
      "text/plain": [
       "scipy.sparse.csr.csr_matrix"
      ]
     },
     "execution_count": 27,
     "metadata": {},
     "output_type": "execute_result"
    }
   ],
   "source": [
    "type(X_selected_income)"
   ]
  },
  {
   "cell_type": "markdown",
   "metadata": {},
   "source": [
    "As stated before, a feature was created for second classification task being the graduation status. If a person has attained a higher education degree, they will be considered to have graduated. Below is the description of the dataset that will be used for the newly created `graduated` feature."
   ]
  },
  {
   "cell_type": "code",
   "execution_count": 28,
   "metadata": {
    "scrolled": true
   },
   "outputs": [
    {
     "data": {
      "text/plain": [
       "scipy.sparse.csr.csr_matrix"
      ]
     },
     "execution_count": 28,
     "metadata": {},
     "output_type": "execute_result"
    }
   ],
   "source": [
    "type(X_selected_grad)\n"
   ]
  },
  {
   "cell_type": "markdown",
   "metadata": {},
   "source": [
    "## Modeling and Evaluation"
   ]
  },
  {
   "cell_type": "code",
   "execution_count": 29,
   "metadata": {},
   "outputs": [
    {
     "name": "stdout",
     "output_type": "stream",
     "text": [
      "Best Score: 0.3333333333333333\n",
      "Best Parameters: {'criterion': 'gini', 'max_depth': None, 'min_samples_leaf': 2, 'min_samples_split': 2, 'splitter': 'best'}\n"
     ]
    }
   ],
   "source": [
    "#### Decision Tree for income\n",
    "classifier = DecisionTreeClassifier()\n",
    "param_grid = { \n",
    "    'criterion': ['gini', 'entropy'],\n",
    "    'splitter': ['best', 'random'],\n",
    "    'max_depth' : [2, None],\n",
    "    'min_samples_split' : [2, 3, 4],\n",
    "    'min_samples_leaf' : [1,2,3],\n",
    "    \n",
    "}\n",
    "\n",
    "CV_dt_income = GridSearchCV(classifier, param_grid, scoring='recall', cv=10, n_jobs= -1)\n",
    "CV_dt_income.fit(X_selected_income, y_selection_income)\n",
    "    \n",
    "print('Best Score: {s}'.format(s=CV_dt_income.best_score_))\n",
    "print('Best Parameters: {p}'.format(p=CV_dt_income.best_params_))  "
   ]
  },
  {
   "cell_type": "code",
   "execution_count": 30,
   "metadata": {},
   "outputs": [
    {
     "name": "stdout",
     "output_type": "stream",
     "text": [
      "Best Score: 0.56\n",
      "Best Parameters: {'criterion': 'gini', 'max_depth': 2, 'min_samples_leaf': 1, 'min_samples_split': 2, 'splitter': 'best'}\n"
     ]
    }
   ],
   "source": [
    "#### Decision Tree for graduation\n",
    "classifier = DecisionTreeClassifier()\n",
    "param_grid = { \n",
    "    'criterion': ['gini', 'entropy'],\n",
    "    'splitter': ['best', 'random'],\n",
    "    'max_depth' : [2, None],\n",
    "    'min_samples_split' : [2, 3, 4],\n",
    "    'min_samples_leaf' : [1,2,3],\n",
    "    \n",
    "}\n",
    "\n",
    "CV_dt_grad = GridSearchCV(classifier, param_grid, scoring='recall', cv=10, n_jobs= -1)\n",
    "CV_dt_grad.fit(X_selected_grad, y_selection_grad)\n",
    "    \n",
    "print('Best Score: {s}'.format(s=CV_dt_grad.best_score_))\n",
    "print('Best Parameters: {p}'.format(p=CV_dt_grad.best_params_))  "
   ]
  },
  {
   "cell_type": "code",
   "execution_count": 31,
   "metadata": {},
   "outputs": [],
   "source": [
    "#Feature importance graph\n",
    "#imp = dt_clf.feature_importances_\n",
    "\n",
    "#Plt\n",
    "#plt.bar(range(len(imp)),imp)"
   ]
  },
  {
   "cell_type": "code",
   "execution_count": 32,
   "metadata": {},
   "outputs": [
    {
     "name": "stdout",
     "output_type": "stream",
     "text": [
      "Best Score: 0.7833333333333333\n",
      "Best Parameters: {'class_weight': 'balanced', 'max_iter': 99999, 'solver': 'lbfgs'}\n"
     ]
    }
   ],
   "source": [
    "#### Logistic Regression for income\n",
    "classifier = LogisticRegression()\n",
    "param_grid = { \n",
    "    'class_weight': ['balanced', None],\n",
    "    #'penalty' : ['l1', 'l2',],\n",
    "    'solver' : ['lbfgs', 'liblinear'],\n",
    "    'max_iter': [99999],\n",
    "}\n",
    "\n",
    "CV_lr_income = GridSearchCV(classifier, param_grid, scoring='recall', cv=10, n_jobs= -1)\n",
    "CV_lr_income.fit(X_selected_income, y_selection_income)\n",
    "    \n",
    "print('Best Score: {s}'.format(s=CV_lr_income.best_score_))\n",
    "print('Best Parameters: {p}'.format(p=CV_lr_income.best_params_)) \n"
   ]
  },
  {
   "cell_type": "code",
   "execution_count": 33,
   "metadata": {},
   "outputs": [
    {
     "name": "stdout",
     "output_type": "stream",
     "text": [
      "Best Score: 0.7133333333333334\n",
      "Best Parameters: {'class_weight': 'balanced', 'max_iter': 99999, 'solver': 'lbfgs'}\n"
     ]
    }
   ],
   "source": [
    "#### Logistic Regression for graduation\n",
    "classifier = LogisticRegression()\n",
    "param_grid = { \n",
    "    'class_weight': ['balanced', None],\n",
    "    #'penalty' : ['l1', 'l2',],\n",
    "    'solver' : ['lbfgs', 'liblinear'],\n",
    "    'max_iter': [99999],\n",
    "}\n",
    "\n",
    "CV_lr_grad = GridSearchCV(classifier, param_grid, scoring='recall', cv=10, n_jobs= -1)\n",
    "CV_lr_grad.fit(X_selected_grad, y_selection_grad)\n",
    "    \n",
    "print('Best Score: {s}'.format(s=CV_lr_grad.best_score_))\n",
    "print('Best Parameters: {p}'.format(p=CV_lr_grad.best_params_)) "
   ]
  },
  {
   "cell_type": "code",
   "execution_count": 34,
   "metadata": {},
   "outputs": [
    {
     "name": "stdout",
     "output_type": "stream",
     "text": [
      "Best Score: 0.2833333333333333\n",
      "Best Parameters: {'n_neighbors': 5, 'weights': 'uniform'}\n"
     ]
    }
   ],
   "source": [
    "#### KNN for income\n",
    "from sklearn.neighbors import KNeighborsClassifier\n",
    "\n",
    "classifier = KNeighborsClassifier()\n",
    "param_grid = { \n",
    "    'n_neighbors': [5, 10,100,200],\n",
    "    'weights': ['uniform', 'distance']\n",
    "}\n",
    "CV_knn_income = GridSearchCV(classifier, param_grid, scoring='recall', cv=10, n_jobs= -1)\n",
    "CV_knn_income.fit(X_selected_income, y_selection_income)\n",
    "\n",
    "print('Best Score: {s}'.format(s=CV_knn_income.best_score_))\n",
    "print('Best Parameters: {p}'.format(p=CV_knn_income.best_params_))\n"
   ]
  },
  {
   "cell_type": "code",
   "execution_count": 35,
   "metadata": {},
   "outputs": [
    {
     "name": "stdout",
     "output_type": "stream",
     "text": [
      "Best Score: 0.5033333333333333\n",
      "Best Parameters: {'n_neighbors': 5, 'weights': 'distance'}\n"
     ]
    }
   ],
   "source": [
    "#### KNN for graduation\n",
    "from sklearn.neighbors import KNeighborsClassifier\n",
    "\n",
    "classifier = KNeighborsClassifier()\n",
    "param_grid = { \n",
    "    'n_neighbors': [5, 10,100,200],\n",
    "    'weights': ['uniform', 'distance']\n",
    "}\n",
    "CV_knn_grad = GridSearchCV(classifier, param_grid, scoring='recall', cv=10, n_jobs= -1)\n",
    "CV_knn_grad.fit(X_selected_grad, y_selection_grad)\n",
    "\n",
    "print('Best Score: {s}'.format(s=CV_knn_grad.best_score_))\n",
    "print('Best Parameters: {p}'.format(p=CV_knn_grad.best_params_))"
   ]
  },
  {
   "cell_type": "code",
   "execution_count": 36,
   "metadata": {},
   "outputs": [
    {
     "name": "stdout",
     "output_type": "stream",
     "text": [
      "Best Score: 0.4833333333333333\n",
      "Best Parameters: {'algorithm': 'SAMME.R', 'learning_rate': 0.5, 'n_estimators': 100}\n"
     ]
    }
   ],
   "source": [
    "#### AdaBoost for income\n",
    "import warnings\n",
    "warnings.filterwarnings('ignore')\n",
    "classifier = AdaBoostClassifier(DecisionTreeClassifier(max_depth=1))\n",
    "param_grid = { \n",
    "    'n_estimators': [50, 100, 200],\n",
    "    'learning_rate': [.1, .5, 1],\n",
    "    'algorithm': ['SAMME.R', 'SAMME']\n",
    "}\n",
    "\n",
    "CV_ada_income = GridSearchCV(classifier, param_grid, scoring='recall', cv=10, n_jobs= -1)\n",
    "CV_ada_income.fit(X_selected_income, y_selection_income)\n",
    "\n",
    "print('Best Score: {s}'.format(s=CV_ada_income.best_score_))\n",
    "print('Best Parameters: {p}'.format(p=CV_ada_income.best_params_))"
   ]
  },
  {
   "cell_type": "code",
   "execution_count": 37,
   "metadata": {},
   "outputs": [
    {
     "name": "stdout",
     "output_type": "stream",
     "text": [
      "Best Score: 0.5733333333333335\n",
      "Best Parameters: {'algorithm': 'SAMME.R', 'learning_rate': 0.1, 'n_estimators': 200}\n"
     ]
    }
   ],
   "source": [
    "#### AdaBoost for graduation\n",
    "import warnings\n",
    "warnings.filterwarnings('ignore')\n",
    "classifier = AdaBoostClassifier(DecisionTreeClassifier(max_depth=1))\n",
    "param_grid = { \n",
    "    'n_estimators': [50, 100, 200],\n",
    "    'learning_rate': [.1, .5, 1],\n",
    "    'algorithm': ['SAMME.R', 'SAMME']\n",
    "}\n",
    "\n",
    "CV_ada_grad = GridSearchCV(classifier, param_grid, scoring='recall', cv=10, n_jobs= -1)\n",
    "CV_ada_grad.fit(X_selected_grad, y_selection_grad)\n",
    "\n",
    "print('Best Score: {s}'.format(s=CV_ada_grad.best_score_))\n",
    "print('Best Parameters: {p}'.format(p=CV_ada_grad.best_params_))\n"
   ]
  },
  {
   "cell_type": "code",
   "execution_count": 38,
   "metadata": {},
   "outputs": [
    {
     "name": "stdout",
     "output_type": "stream",
     "text": [
      "Best Score: 0.4333333333333334\n",
      "Best Parameters: {'learning_rate': 0.5, 'max_depth': 1, 'n_estimators': 100}\n"
     ]
    }
   ],
   "source": [
    "#### Gradient Boosting for income\n",
    "from sklearn.ensemble import GradientBoostingClassifier\n",
    "\n",
    "param_grid = { \n",
    "    'n_estimators': [10, 50, 100, 200],\n",
    "    'learning_rate' : [0.001, 0.1, 0.5, 1],\n",
    "    'max_depth': [1,2,3],\n",
    "}\n",
    "\n",
    "classifier = GradientBoostingClassifier(random_state=1)\n",
    "\n",
    "\n",
    "CV_gbc_income = GridSearchCV(classifier, param_grid, scoring='recall', cv=10, n_jobs= -1)\n",
    "CV_gbc_income.fit(X_selected_income, y_selection_income)\n",
    "\n",
    "print('Best Score: {s}'.format(s=CV_gbc_income.best_score_))\n",
    "print('Best Parameters: {p}'.format(p=CV_gbc_income.best_params_))"
   ]
  },
  {
   "cell_type": "code",
   "execution_count": 39,
   "metadata": {},
   "outputs": [
    {
     "name": "stdout",
     "output_type": "stream",
     "text": [
      "Best Score: 0.6300000000000001\n",
      "Best Parameters: {'learning_rate': 1, 'max_depth': 2, 'n_estimators': 10}\n"
     ]
    }
   ],
   "source": [
    "#### Gradient Boosting for graduation\n",
    "from sklearn.ensemble import GradientBoostingClassifier\n",
    "\n",
    "param_grid = { \n",
    "    'n_estimators': [10, 50, 100, 200],\n",
    "    'learning_rate' : [0.001, 0.1, 0.5, 1],\n",
    "    'max_depth': [1,2,3],\n",
    "}\n",
    "\n",
    "classifier = GradientBoostingClassifier(random_state=1)\n",
    "\n",
    "\n",
    "CV_gbc_grad = GridSearchCV(classifier, param_grid, scoring='recall', cv=10, n_jobs= -1)\n",
    "CV_gbc_grad.fit(X_selected_grad, y_selection_grad)\n",
    "\n",
    "print('Best Score: {s}'.format(s=CV_gbc_grad.best_score_))\n",
    "print('Best Parameters: {p}'.format(p=CV_gbc_grad.best_params_))"
   ]
  },
  {
   "cell_type": "markdown",
   "metadata": {},
   "source": [
    "### Model and Evaluation 1"
   ]
  },
  {
   "cell_type": "markdown",
   "metadata": {},
   "source": [
    "In our analysis we decided to use the accuracy as the appropriate measure for interpreting the power of our models. Since our project mainly deals with classification, we found that the accuracy is the best measure for how well our models are doing. When we are talking about accuracy, we mainly are talking about the number of correct predictions made over the total predictions made by the model. In our scenario, we are trying to predict whether the income is over or under 50k and graduation (whether the individual graduated from high school or college). Accuracy is a good metric to look at when we have balanced datasets. "
   ]
  },
  {
   "cell_type": "markdown",
   "metadata": {},
   "source": [
    "### Model and Evaluation 2"
   ]
  },
  {
   "cell_type": "markdown",
   "metadata": {},
   "source": [
    "For the models we have created, we have been using stratified 10-fold cross validation. This method is being applied when we are running the GridSearchCV function which also gives us the best parameters to use for that chosen model. We went with the stratified method since this a binary classification problem and we want balanced classes. Especially, since we are working with a large number of values, the balance is important which stratified helped us achieve. This is so that the data is arranged in a way that every fold comprises of half the instances. This will also prove useful because we want to see which one our three models will do well using this type of cross validation. "
   ]
  },
  {
   "cell_type": "markdown",
   "metadata": {},
   "source": [
    "### Model and Evaluation 3"
   ]
  },
  {
   "cell_type": "code",
   "execution_count": null,
   "metadata": {},
   "outputs": [],
   "source": []
  },
  {
   "cell_type": "markdown",
   "metadata": {},
   "source": [
    "### Model and Evaluation 4"
   ]
  },
  {
   "cell_type": "code",
   "execution_count": null,
   "metadata": {},
   "outputs": [],
   "source": []
  },
  {
   "cell_type": "markdown",
   "metadata": {},
   "source": [
    "### Model and Evaluation 5"
   ]
  },
  {
   "cell_type": "code",
   "execution_count": null,
   "metadata": {},
   "outputs": [],
   "source": []
  },
  {
   "cell_type": "markdown",
   "metadata": {},
   "source": [
    "### Model and Evaluation 6"
   ]
  },
  {
   "cell_type": "code",
   "execution_count": null,
   "metadata": {},
   "outputs": [],
   "source": []
  },
  {
   "cell_type": "markdown",
   "metadata": {},
   "source": [
    "### Deployment"
   ]
  },
  {
   "cell_type": "code",
   "execution_count": null,
   "metadata": {},
   "outputs": [],
   "source": []
  },
  {
   "cell_type": "markdown",
   "metadata": {},
   "source": [
    "### Exceptional Work"
   ]
  },
  {
   "cell_type": "code",
   "execution_count": null,
   "metadata": {},
   "outputs": [],
   "source": []
  }
 ],
 "metadata": {
  "kernelspec": {
   "display_name": "Python 3",
   "language": "python",
   "name": "python3"
  },
  "language_info": {
   "codemirror_mode": {
    "name": "ipython",
    "version": 3
   },
   "file_extension": ".py",
   "mimetype": "text/x-python",
   "name": "python",
   "nbconvert_exporter": "python",
   "pygments_lexer": "ipython3",
   "version": "3.8.5"
  }
 },
 "nbformat": 4,
 "nbformat_minor": 2
}
