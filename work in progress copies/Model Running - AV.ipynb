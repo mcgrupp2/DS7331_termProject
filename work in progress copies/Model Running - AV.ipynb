{
 "cells": [
  {
   "cell_type": "code",
   "execution_count": 37,
   "metadata": {},
   "outputs": [],
   "source": [
    "import datetime\n",
    "import itertools\n",
    "import os\n",
    "import pathlib\n",
    "import sklearn\n",
    "\n",
    "import numpy as np\n",
    "import pandas as pd\n",
    "import seaborn as sns\n",
    "import scipy.stats as stats\n",
    "\n",
    "from matplotlib import pyplot as plt\n",
    "from sklearn.model_selection import train_test_split\n",
    "from sklearn.metrics import mean_squared_error\n",
    "from sklearn.feature_selection import RFE, RFECV\n",
    "from sklearn.model_selection import StratifiedKFold\n",
    "from sklearn.linear_model import LogisticRegression\n",
    "from sklearn.pipeline import Pipeline\n",
    "from sklearn.impute import SimpleImputer\n",
    "from sklearn.preprocessing import StandardScaler, OneHotEncoder\n",
    "from sklearn.compose import ColumnTransformer\n",
    "from sklearn.metrics import accuracy_score\n",
    "from sklearn.model_selection import GridSearchCV\n",
    "from sklearn.svm import SVC\n",
    "from sklearn.base import BaseEstimator, TransformerMixin"
   ]
  },
  {
   "cell_type": "code",
   "execution_count": 38,
   "metadata": {},
   "outputs": [],
   "source": [
    "header_names = [\n",
    "    'age',\n",
    "    'class_worker',\n",
    "    'det_ind_code',\n",
    "    'det_occ_code',\n",
    "    'education',\n",
    "    'wage_per_hour',\n",
    "    'hs_college',\n",
    "    'marital_stat',\n",
    "    'major_ind_code',\n",
    "    'major_occ_code',\n",
    "    'race',\n",
    "    'hisp_origin',\n",
    "    'sex',\n",
    "    'union_member',\n",
    "    'unemp_reason',\n",
    "    'full_or_part_emp',\n",
    "    'capital_gains',\n",
    "    'capital_losses',\n",
    "    'stock_dividends',\n",
    "    'tax_filer_stat',\n",
    "    'region_prev_res',\n",
    "    'state_prev_res',\n",
    "    'det_hh_fam_stat',\n",
    "    'det_hh_summ',\n",
    "    'instance_weight', ## this field is not used as a feature\n",
    "    'mig_chg_msa',\n",
    "    'mig_chg_reg',\n",
    "    'mig_move_reg',\n",
    "    'mig_same',\n",
    "    'mig_prev_sunbelt',\n",
    "    'num_emp',\n",
    "    'fam_under_18',\n",
    "    'country_father',\n",
    "    'country_mother',\n",
    "    'country_self',\n",
    "    'citizenship',\n",
    "    'own_or_self',\n",
    "    'vet_question',\n",
    "    'vet_benefits',\n",
    "    'weeks_worked',\n",
    "    'year',\n",
    "    'income_50k',\n",
    "]\n",
    "\n",
    "\n",
    "df = pd.read_csv('/Users/password1234/Documents/Machine Learning/census-income.data.csv', header=None, names=header_names)\n",
    "df_test = pd.read_csv('/Users/password1234/Documents/Machine Learning/census-income.test.csv', header=None, names=header_names)\n",
    "df = pd.concat([df,df_test]) ## the test file is also labelled so they can be merged\n",
    "df.drop(columns=['instance_weight']) ## not used for our analysis\n",
    "\n",
    "categorical_features = [\n",
    "    'class_worker',\n",
    "    'det_ind_code',\n",
    "    'det_occ_code',\n",
    "    'education',\n",
    "    'hs_college',\n",
    "    'marital_stat',\n",
    "    'major_ind_code',\n",
    "    'major_occ_code',\n",
    "    'race',\n",
    "    'hisp_origin',\n",
    "    'sex',\n",
    "    'union_member',\n",
    "    'unemp_reason',\n",
    "    'full_or_part_emp',\n",
    "    'tax_filer_stat',\n",
    "    'region_prev_res',\n",
    "    'state_prev_res',\n",
    "    'det_hh_fam_stat',\n",
    "    'det_hh_summ',\n",
    "    'mig_chg_msa',\n",
    "    'mig_chg_reg',\n",
    "    'mig_move_reg',\n",
    "    'mig_same',\n",
    "    'mig_prev_sunbelt',\n",
    "    'fam_under_18',\n",
    "    'country_father',\n",
    "    'country_mother',\n",
    "    'country_self',\n",
    "    'citizenship',\n",
    "    'own_or_self',\n",
    "    'vet_question',\n",
    "    'vet_benefits',\n",
    "    'year',\n",
    "]\n",
    "df[categorical_features] = df[categorical_features].astype('category')"
   ]
  },
  {
   "cell_type": "code",
   "execution_count": 39,
   "metadata": {},
   "outputs": [],
   "source": [
    "### Drop columns not used in modelling\n",
    "df = df.drop(\n",
    "    columns=[\n",
    "        'region_prev_res',\n",
    "        'state_prev_res',\n",
    "        'det_hh_fam_stat',\n",
    "        'det_hh_summ',\n",
    "        'mig_chg_msa',\n",
    "        'mig_chg_reg',\n",
    "        'mig_move_reg',\n",
    "        'mig_same',\n",
    "        'mig_prev_sunbelt',\n",
    "        'country_father',\n",
    "        'country_mother',\n",
    "        'country_self',\n",
    "        'year',\n",
    "    ]\n",
    ")"
   ]
  },
  {
   "cell_type": "code",
   "execution_count": 26,
   "metadata": {},
   "outputs": [
    {
     "name": "stdout",
     "output_type": "stream",
     "text": [
      "<class 'pandas.core.frame.DataFrame'>\n",
      "Int64Index: 299285 entries, 0 to 99761\n",
      "Data columns (total 29 columns):\n",
      "age                 299285 non-null int64\n",
      "class_worker        299285 non-null category\n",
      "det_ind_code        299285 non-null category\n",
      "det_occ_code        299285 non-null category\n",
      "education           299285 non-null category\n",
      "wage_per_hour       299285 non-null int64\n",
      "hs_college          299285 non-null category\n",
      "marital_stat        299285 non-null category\n",
      "major_ind_code      299285 non-null category\n",
      "major_occ_code      299285 non-null category\n",
      "race                299285 non-null category\n",
      "hisp_origin         299285 non-null category\n",
      "sex                 299285 non-null category\n",
      "union_member        299285 non-null category\n",
      "unemp_reason        299285 non-null category\n",
      "full_or_part_emp    299285 non-null category\n",
      "capital_gains       299285 non-null int64\n",
      "capital_losses      299285 non-null int64\n",
      "stock_dividends     299285 non-null int64\n",
      "tax_filer_stat      299285 non-null category\n",
      "instance_weight     299285 non-null float64\n",
      "num_emp             299285 non-null int64\n",
      "fam_under_18        299285 non-null category\n",
      "citizenship         299285 non-null category\n",
      "own_or_self         299285 non-null category\n",
      "vet_question        299285 non-null category\n",
      "vet_benefits        299285 non-null category\n",
      "weeks_worked        299285 non-null int64\n",
      "income_50k          299285 non-null object\n",
      "dtypes: category(20), float64(1), int64(7), object(1)\n",
      "memory usage: 28.6+ MB\n"
     ]
    }
   ],
   "source": [
    "df.info()"
   ]
  },
  {
   "cell_type": "code",
   "execution_count": 40,
   "metadata": {},
   "outputs": [],
   "source": [
    "## test set for feature selection\n",
    "selection_df = df.sample(frac = .2)"
   ]
  },
  {
   "cell_type": "code",
   "execution_count": 41,
   "metadata": {},
   "outputs": [],
   "source": [
    "def preprocess_pipeline(numeric_features, categorical_features):\n",
    "    ### Scale numerical, one hot categorical\n",
    "\n",
    "    numeric_transformer = Pipeline(\n",
    "        steps=[\n",
    "            #('imputer', SimpleImputer(strategy='median')),\n",
    "            ('scaler', StandardScaler()),\n",
    "        ]\n",
    "    )\n",
    "    categorical_transformer = Pipeline(\n",
    "        steps=[\n",
    "            #('imputer', SimpleImputer(strategy='constant', fill_value='missing')),\n",
    "            ('onehot', OneHotEncoder(handle_unknown='ignore')),\n",
    "        ]\n",
    "    )\n",
    "    preprocessor = ColumnTransformer(\n",
    "        transformers=[\n",
    "            ('num', numeric_transformer, numeric_features),\n",
    "            ('cat', categorical_transformer, categorical_features)]\n",
    "    )\n",
    "    preprocess_pipe = Pipeline(\n",
    "        steps=[\n",
    "            ('preprocessor', preprocessor),\n",
    "        ]\n",
    "    )\n",
    "    \n",
    "    return preprocess_pipe"
   ]
  },
  {
   "cell_type": "code",
   "execution_count": 42,
   "metadata": {},
   "outputs": [],
   "source": [
    "### Preprocess the data\n",
    "target = 'income_50k'\n",
    "numeric_features = df.select_dtypes(include=['int64', 'float64']).columns\n",
    "categorical_features = df.select_dtypes(include=['object','bool', 'category']).drop([target], axis=1).columns\n",
    "X_selection = selection_df.drop(target, axis=1)\n",
    "y_selection = selection_df[target]\n",
    "preprocessor = preprocess_pipeline(numeric_features, categorical_features)\n",
    "X_selection_preprocessed = preprocessor.fit_transform(X_selection)"
   ]
  },
  {
   "cell_type": "code",
   "execution_count": 43,
   "metadata": {},
   "outputs": [],
   "source": [
    "### Make a list of all the columns after one hot encoding\n",
    "ohe = preprocessor['preprocessor'].named_transformers_['cat']['onehot']\n",
    "cat_processed = ohe.get_feature_names(X_selection[categorical_features].columns)\n",
    "all_processed_cols = np.concatenate((numeric_features, cat_processed), axis=0)"
   ]
  },
  {
   "cell_type": "code",
   "execution_count": 33,
   "metadata": {},
   "outputs": [
    {
     "name": "stdout",
     "output_type": "stream",
     "text": [
      "Optimal number of features : 209\n"
     ]
    },
    {
     "data": {
      "image/png": "[encoded data removed]",
      "text/plain": [
       "<Figure size 432x288 with 1 Axes>"
      ]
     },
     "metadata": {
      "needs_background": "light"
     },
     "output_type": "display_data"
    }
   ],
   "source": [
    "import warnings\n",
    "warnings.filterwarnings('ignore')\n",
    "\n",
    "### RFE CV to find best features \n",
    "clf = LogisticRegression(n_jobs=-1)\n",
    "rfecv = RFECV(clf, step=1, cv=5)\n",
    "rfecv.fit(X_selection_preprocessed, y_selection)\n",
    "print(\"Optimal number of features : %d\" % rfecv.n_features_)\n",
    "\n",
    "# Plot number of features VS. cross-validation scores\n",
    "plt.figure()\n",
    "plt.xlabel(\"Number of features selected\")\n",
    "plt.ylabel(\"Cross validation score (% of correct classifications)\")\n",
    "plt.plot(range(1, len(rfecv.grid_scores_) + 1), rfecv.grid_scores_)\n",
    "plt.show()"
   ]
  },
  {
   "cell_type": "code",
   "execution_count": 44,
   "metadata": {},
   "outputs": [
    {
     "name": "stdout",
     "output_type": "stream",
     "text": [
      "['age' 'capital_gains' 'capital_losses' 'stock_dividends' 'num_emp'\n",
      " 'weeks_worked' 'class_worker_ Federal government'\n",
      " 'class_worker_ Local government' 'class_worker_ Not in universe'\n",
      " 'class_worker_ Self-employed-incorporated'\n",
      " 'class_worker_ Self-employed-not incorporated'\n",
      " 'class_worker_ State government' 'class_worker_ Without pay'\n",
      " 'det_ind_code_0' 'det_ind_code_1' 'det_ind_code_2' 'det_ind_code_3'\n",
      " 'det_ind_code_4' 'det_ind_code_5' 'det_ind_code_6' 'det_ind_code_7'\n",
      " 'det_ind_code_8' 'det_ind_code_9' 'det_ind_code_11' 'det_ind_code_12'\n",
      " 'det_ind_code_13' 'det_ind_code_14' 'det_ind_code_15' 'det_ind_code_18'\n",
      " 'det_ind_code_19' 'det_ind_code_20' 'det_ind_code_21' 'det_ind_code_22'\n",
      " 'det_ind_code_23' 'det_ind_code_24' 'det_ind_code_25' 'det_ind_code_26'\n",
      " 'det_ind_code_28' 'det_ind_code_29' 'det_ind_code_31' 'det_ind_code_32'\n",
      " 'det_ind_code_33' 'det_ind_code_35' 'det_ind_code_36' 'det_ind_code_37'\n",
      " 'det_ind_code_38' 'det_ind_code_39' 'det_ind_code_41' 'det_ind_code_42'\n",
      " 'det_ind_code_43' 'det_ind_code_44' 'det_ind_code_45' 'det_ind_code_46'\n",
      " 'det_ind_code_47' 'det_ind_code_49' 'det_ind_code_50' 'det_ind_code_51'\n",
      " 'det_occ_code_0' 'det_occ_code_1' 'det_occ_code_2' 'det_occ_code_4'\n",
      " 'det_occ_code_5' 'det_occ_code_6' 'det_occ_code_7' 'det_occ_code_9'\n",
      " 'det_occ_code_10' 'det_occ_code_11' 'det_occ_code_12' 'det_occ_code_13'\n",
      " 'det_occ_code_14' 'det_occ_code_16' 'det_occ_code_17' 'det_occ_code_18'\n",
      " 'det_occ_code_19' 'det_occ_code_20' 'det_occ_code_21' 'det_occ_code_22'\n",
      " 'det_occ_code_23' 'det_occ_code_24' 'det_occ_code_25' 'det_occ_code_26'\n",
      " 'det_occ_code_27' 'det_occ_code_28' 'det_occ_code_29' 'det_occ_code_31'\n",
      " 'det_occ_code_32' 'det_occ_code_34' 'det_occ_code_35' 'det_occ_code_36'\n",
      " 'det_occ_code_37' 'det_occ_code_38' 'det_occ_code_39' 'det_occ_code_40'\n",
      " 'det_occ_code_41' 'det_occ_code_42' 'det_occ_code_43' 'det_occ_code_44'\n",
      " 'det_occ_code_45' 'det_occ_code_46' 'education_ 10th grade'\n",
      " 'education_ 11th grade' 'education_ 12th grade no diploma'\n",
      " 'education_ 1st 2nd 3rd or 4th grade' 'education_ 5th or 6th grade'\n",
      " 'education_ 7th and 8th grade' 'education_ 9th grade'\n",
      " 'education_ Bachelors degree(BA AB BS)' 'education_ Children'\n",
      " 'education_ Doctorate degree(PhD EdD)' 'education_ High school graduate'\n",
      " 'education_ Less than 1st grade'\n",
      " 'education_ Masters degree(MA MS MEng MEd MSW MBA)'\n",
      " 'education_ Prof school degree (MD DDS DVM LLB JD)'\n",
      " 'education_ Some college but no degree'\n",
      " 'hs_college_ College or university' 'hs_college_ High school'\n",
      " 'hs_college_ Not in universe' 'marital_stat_ Divorced'\n",
      " 'marital_stat_ Married-A F spouse present'\n",
      " 'marital_stat_ Married-civilian spouse present'\n",
      " 'marital_stat_ Married-spouse absent' 'marital_stat_ Never married'\n",
      " 'marital_stat_ Separated' 'major_ind_code_ Agriculture'\n",
      " 'major_ind_code_ Armed Forces'\n",
      " 'major_ind_code_ Business and repair services'\n",
      " 'major_ind_code_ Construction' 'major_ind_code_ Education'\n",
      " 'major_ind_code_ Finance insurance and real estate'\n",
      " 'major_ind_code_ Forestry and fisheries'\n",
      " 'major_ind_code_ Hospital services'\n",
      " 'major_ind_code_ Medical except hospital' 'major_ind_code_ Mining'\n",
      " 'major_ind_code_ Not in universe or children'\n",
      " 'major_ind_code_ Other professional services'\n",
      " 'major_ind_code_ Personal services except private HH'\n",
      " 'major_ind_code_ Private household services'\n",
      " 'major_ind_code_ Public administration' 'major_ind_code_ Retail trade'\n",
      " 'major_ind_code_ Social services' 'major_ind_code_ Transportation'\n",
      " 'major_ind_code_ Utilities and sanitary services'\n",
      " 'major_ind_code_ Wholesale trade'\n",
      " 'major_occ_code_ Adm support including clerical'\n",
      " 'major_occ_code_ Armed Forces'\n",
      " 'major_occ_code_ Executive admin and managerial'\n",
      " 'major_occ_code_ Farming forestry and fishing'\n",
      " 'major_occ_code_ Handlers equip cleaners etc '\n",
      " 'major_occ_code_ Machine operators assmblrs & inspctrs'\n",
      " 'major_occ_code_ Not in universe' 'major_occ_code_ Other service'\n",
      " 'major_occ_code_ Precision production craft & repair'\n",
      " 'major_occ_code_ Private household services'\n",
      " 'major_occ_code_ Professional specialty'\n",
      " 'major_occ_code_ Protective services' 'major_occ_code_ Sales'\n",
      " 'major_occ_code_ Technicians and related support'\n",
      " 'race_ Asian or Pacific Islander' 'race_ Black' 'race_ Other'\n",
      " 'race_ White' 'hisp_origin_ All other'\n",
      " 'hisp_origin_ Central or South American' 'hisp_origin_ Chicano'\n",
      " 'hisp_origin_ Cuban' 'hisp_origin_ Do not know'\n",
      " 'hisp_origin_ Mexican (Mexicano)' 'hisp_origin_ Mexican-American'\n",
      " 'hisp_origin_ NA' 'hisp_origin_ Other Spanish' 'sex_ Female'\n",
      " 'union_member_ No' 'union_member_ Not in universe' 'union_member_ Yes'\n",
      " 'unemp_reason_ Job leaver' 'unemp_reason_ Job loser - on layoff'\n",
      " 'unemp_reason_ Not in universe' 'unemp_reason_ Other job loser'\n",
      " 'unemp_reason_ Re-entrant' 'full_or_part_emp_ Full-time schedules'\n",
      " 'full_or_part_emp_ Not in labor force'\n",
      " 'full_or_part_emp_ PT for econ reasons usually FT'\n",
      " 'full_or_part_emp_ PT for econ reasons usually PT'\n",
      " 'full_or_part_emp_ PT for non-econ reasons usually FT'\n",
      " 'full_or_part_emp_ Unemployed full-time'\n",
      " 'full_or_part_emp_ Unemployed part- time'\n",
      " 'tax_filer_stat_ Head of household' 'tax_filer_stat_ Joint both 65+'\n",
      " 'tax_filer_stat_ Joint both under 65'\n",
      " 'tax_filer_stat_ Joint one under 65 & one 65+' 'tax_filer_stat_ Nonfiler'\n",
      " 'tax_filer_stat_ Single' 'fam_under_18_ Both parents present'\n",
      " 'fam_under_18_ Mother only present' 'fam_under_18_ Not in universe'\n",
      " 'citizenship_ Foreign born- Not a citizen of U S '\n",
      " 'citizenship_ Foreign born- U S citizen by naturalization'\n",
      " 'citizenship_ Native- Born abroad of American Parent(s)'\n",
      " 'citizenship_ Native- Born in Puerto Rico or U S Outlying'\n",
      " 'citizenship_ Native- Born in the United States' 'own_or_self_0'\n",
      " 'own_or_self_1' 'own_or_self_2' 'vet_question_ No'\n",
      " 'vet_question_ Not in universe' 'vet_question_ Yes' 'vet_benefits_0'\n",
      " 'vet_benefits_1' 'vet_benefits_2']\n"
     ]
    }
   ],
   "source": [
    "### Show all selected features\n",
    "selected_features = all_processed_cols[rfecv.support_]\n",
    "print(selected_features)\n",
    "X = sampleDF.drop(target, axis=1)\n",
    "y = sampleDF[target]\n",
    "X_preprocessed = preprocessor.fit_transform(X)\n",
    "X_selected = X_preprocessed.tocsr()[:,rfecv.support_] #index columns of sparse matrix"
   ]
  },
  {
   "cell_type": "code",
   "execution_count": 45,
   "metadata": {},
   "outputs": [],
   "source": [
    "#Splitting data into train and test\n",
    "X_train, X_test, y_train, y_test = train_test_split(X_selected, y, test_size=0.2, random_state=1)"
   ]
  },
  {
   "cell_type": "code",
   "execution_count": 46,
   "metadata": {},
   "outputs": [],
   "source": [
    "from sklearn.tree import DecisionTreeClassifier\n",
    "from sklearn import metrics as mt"
   ]
  },
  {
   "cell_type": "code",
   "execution_count": 18,
   "metadata": {},
   "outputs": [
    {
     "name": "stdout",
     "output_type": "stream",
     "text": [
      "Best Score: 0.9459144293900463\n",
      "Best Parameters: {'criterion': 'gini', 'max_depth': None, 'min_samples_leaf': 3, 'min_samples_split': 4, 'splitter': 'random'}\n"
     ]
    }
   ],
   "source": [
    "#### Using the classification_pipeline function Decision Tree\n",
    "classifier = DecisionTreeClassifier()\n",
    "param_grid = { \n",
    "    'criterion': ['gini', 'entropy'],\n",
    "    'splitter': ['best', 'random'],\n",
    "    'max_depth' : [2, None],\n",
    "    'min_samples_split' : [2, 3, 4],\n",
    "    'min_samples_leaf' : [1,2,3],\n",
    "    \n",
    "}\n",
    "\n",
    "CV = GridSearchCV(classifier, param_grid, scoring='accuracy', cv=10, n_jobs= -1)\n",
    "CV.fit(X_selected, y)\n",
    "    \n",
    "print('Best Score: {s}'.format(s=CV.best_score_))\n",
    "print('Best Parameters: {p}'.format(p=CV.best_params_))  "
   ]
  },
  {
   "cell_type": "code",
   "execution_count": 47,
   "metadata": {},
   "outputs": [
    {
     "name": "stdout",
     "output_type": "stream",
     "text": [
      "CPU times: user 7.66 s, sys: 35.3 ms, total: 7.7 s\n",
      "Wall time: 7.6 s\n",
      "accuracy: 0.9446184688635509\n"
     ]
    }
   ],
   "source": [
    "#getting prediction accuracy for Decision Tree\n",
    "\n",
    "dt_clf = DecisionTreeClassifier(criterion = 'gini', \n",
    "                                splitter = 'random', \n",
    "                                min_samples_split = 3, \n",
    "                                min_samples_leaf = 3)\n",
    "\n",
    "\n",
    "# train the decision tree algorithm\n",
    "%time dt_clf.fit(X_train,y_train)\n",
    "yhat = dt_clf.predict(X_test)\n",
    "print ('accuracy:', mt.accuracy_score(y_test,yhat))"
   ]
  },
  {
   "cell_type": "code",
   "execution_count": 48,
   "metadata": {},
   "outputs": [
    {
     "data": {
      "text/plain": [
       "<BarContainer object of 209 artists>"
      ]
     },
     "execution_count": 48,
     "metadata": {},
     "output_type": "execute_result"
    },
    {
     "data": {
      "image/png": "[encoded data removed]",
      "text/plain": [
       "<Figure size 432x288 with 1 Axes>"
      ]
     },
     "metadata": {
      "needs_background": "light"
     },
     "output_type": "display_data"
    }
   ],
   "source": [
    "#Feature importance graph\n",
    "imp = dt_clf.feature_importances_\n",
    "\n",
    "#Plt\n",
    "plt.bar(range(len(imp)), imp)"
   ]
  },
  {
   "cell_type": "code",
   "execution_count": null,
   "metadata": {},
   "outputs": [],
   "source": []
  }
 ],
 "metadata": {
  "kernelspec": {
   "display_name": "Python 3",
   "language": "python",
   "name": "python3"
  },
  "language_info": {
   "codemirror_mode": {
    "name": "ipython",
    "version": 3
   },
   "file_extension": ".py",
   "mimetype": "text/x-python",
   "name": "python",
   "nbconvert_exporter": "python",
   "pygments_lexer": "ipython3",
   "version": "3.7.4"
  }
 },
 "nbformat": 4,
 "nbformat_minor": 2
}
